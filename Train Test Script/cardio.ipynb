{
 "cells": [
  {
   "attachments": {},
   "cell_type": "markdown",
   "metadata": {},
   "source": [
    "## Import necessary packages"
   ]
  },
  {
   "cell_type": "code",
   "execution_count": 100,
   "metadata": {},
   "outputs": [],
   "source": [
    "import pandas as pd\n",
    "import numpy as np\n",
    "import seaborn as sns\n",
    "import matplotlib.pyplot as plt\n",
    "import scipy.stats as ss\n",
    "\n",
    "from sklearn.linear_model import LogisticRegression\n",
    "from sklearn.model_selection import train_test_split\n",
    "from sklearn.ensemble import \\\n",
    "    RandomForestClassifier, GradientBoostingClassifier\n",
    "from sklearn.svm import SVC\n",
    "from sklearn import tree\n",
    "from sklearn.pipeline import Pipeline \n",
    "from sklearn.preprocessing import \\\n",
    "    StandardScaler, MinMaxScaler\n",
    "from sklearn.metrics import f1_score, accuracy_score\n",
    "from sklearn.metrics import classification_report, confusion_matrix, ConfusionMatrixDisplay\n",
    "from sklearn.cluster import KMeans\n",
    "from sklearn.tree import DecisionTreeClassifier\n",
    "from sklearn.model_selection import RandomizedSearchCV, GridSearchCV\n",
    "from sklearn.neighbors import KNeighborsClassifier\n",
    "import os\n",
    "import pickle\n"
   ]
  },
  {
   "attachments": {},
   "cell_type": "markdown",
   "metadata": {},
   "source": [
    "## Functions"
   ]
  },
  {
   "cell_type": "code",
   "execution_count": 3,
   "metadata": {},
   "outputs": [],
   "source": [
    "\n",
    "def cramers_corrected_stat(confusion_matrix):\n",
    "\n",
    "    \"\"\" calculate Cramers V statistic for categorial-categorial association.\n",
    "\n",
    "        uses correction from Bergsma and Wicher,\n",
    "\n",
    "        Journal of the Korean Statistical Society 42 (2013): 323-328\n",
    "\n",
    "    \"\"\"\n",
    "    chi2 = ss.chi2_contingency(confusion_matrix)[0]\n",
    "    n = confusion_matrix.sum()\n",
    "    phi2 = chi2/n\n",
    "    r,k = confusion_matrix.shape\n",
    "    phi2corr = max(0, phi2 - ((k-1)*(r-1))/(n-1))  \n",
    "    rcorr = r - ((r-1)**2)/(n-1)\n",
    "    kcorr = k - ((k-1)**2)/(n-1)\n",
    "    return np.sqrt(phi2corr / min( (kcorr-1), (rcorr-1)))\n",
    "\n",
    "def plot_con(con, df, c):\n",
    "    for i in  con:\n",
    "        plt.figure()\n",
    "        sns.displot(x=i, data=df, color='c', kde=True)\n",
    "        plt.show()"
   ]
  },
  {
   "attachments": {},
   "cell_type": "markdown",
   "metadata": {},
   "source": [
    "## 1. Data Loading"
   ]
  },
  {
   "cell_type": "code",
   "execution_count": 4,
   "metadata": {},
   "outputs": [],
   "source": [
    "df = pd.read_csv('cardio_train.csv', sep=';')"
   ]
  },
  {
   "cell_type": "code",
   "execution_count": 5,
   "metadata": {},
   "outputs": [
    {
     "data": {
      "text/html": [
       "<div>\n",
       "<style scoped>\n",
       "    .dataframe tbody tr th:only-of-type {\n",
       "        vertical-align: middle;\n",
       "    }\n",
       "\n",
       "    .dataframe tbody tr th {\n",
       "        vertical-align: top;\n",
       "    }\n",
       "\n",
       "    .dataframe thead th {\n",
       "        text-align: right;\n",
       "    }\n",
       "</style>\n",
       "<table border=\"1\" class=\"dataframe\">\n",
       "  <thead>\n",
       "    <tr style=\"text-align: right;\">\n",
       "      <th></th>\n",
       "      <th>id</th>\n",
       "      <th>age</th>\n",
       "      <th>gender</th>\n",
       "      <th>height</th>\n",
       "      <th>weight</th>\n",
       "      <th>ap_hi</th>\n",
       "      <th>ap_lo</th>\n",
       "      <th>cholesterol</th>\n",
       "      <th>gluc</th>\n",
       "      <th>smoke</th>\n",
       "      <th>alco</th>\n",
       "      <th>active</th>\n",
       "      <th>cardio</th>\n",
       "    </tr>\n",
       "  </thead>\n",
       "  <tbody>\n",
       "    <tr>\n",
       "      <th>0</th>\n",
       "      <td>0</td>\n",
       "      <td>18393</td>\n",
       "      <td>2</td>\n",
       "      <td>168.0</td>\n",
       "      <td>62.0</td>\n",
       "      <td>110</td>\n",
       "      <td>80</td>\n",
       "      <td>1.0</td>\n",
       "      <td>1</td>\n",
       "      <td>0</td>\n",
       "      <td>0.0</td>\n",
       "      <td>1</td>\n",
       "      <td>0</td>\n",
       "    </tr>\n",
       "    <tr>\n",
       "      <th>1</th>\n",
       "      <td>1</td>\n",
       "      <td>20228</td>\n",
       "      <td>1</td>\n",
       "      <td>156.0</td>\n",
       "      <td>85.0</td>\n",
       "      <td>140</td>\n",
       "      <td>90</td>\n",
       "      <td>3.0</td>\n",
       "      <td>1</td>\n",
       "      <td>0</td>\n",
       "      <td>0.0</td>\n",
       "      <td>1</td>\n",
       "      <td>1</td>\n",
       "    </tr>\n",
       "    <tr>\n",
       "      <th>2</th>\n",
       "      <td>2</td>\n",
       "      <td>18857</td>\n",
       "      <td>1</td>\n",
       "      <td>165.0</td>\n",
       "      <td>64.0</td>\n",
       "      <td>130</td>\n",
       "      <td>70</td>\n",
       "      <td>3.0</td>\n",
       "      <td>1</td>\n",
       "      <td>0</td>\n",
       "      <td>0.0</td>\n",
       "      <td>0</td>\n",
       "      <td>1</td>\n",
       "    </tr>\n",
       "    <tr>\n",
       "      <th>3</th>\n",
       "      <td>3</td>\n",
       "      <td>17623</td>\n",
       "      <td>2</td>\n",
       "      <td>169.0</td>\n",
       "      <td>82.0</td>\n",
       "      <td>150</td>\n",
       "      <td>100</td>\n",
       "      <td>1.0</td>\n",
       "      <td>1</td>\n",
       "      <td>0</td>\n",
       "      <td>0.0</td>\n",
       "      <td>1</td>\n",
       "      <td>1</td>\n",
       "    </tr>\n",
       "    <tr>\n",
       "      <th>4</th>\n",
       "      <td>4</td>\n",
       "      <td>17474</td>\n",
       "      <td>1</td>\n",
       "      <td>156.0</td>\n",
       "      <td>56.0</td>\n",
       "      <td>100</td>\n",
       "      <td>60</td>\n",
       "      <td>1.0</td>\n",
       "      <td>1</td>\n",
       "      <td>0</td>\n",
       "      <td>0.0</td>\n",
       "      <td>0</td>\n",
       "      <td>0</td>\n",
       "    </tr>\n",
       "  </tbody>\n",
       "</table>\n",
       "</div>"
      ],
      "text/plain": [
       "   id    age  gender  height  weight  ap_hi  ap_lo  cholesterol  gluc  smoke  \\\n",
       "0   0  18393       2   168.0    62.0    110     80          1.0     1      0   \n",
       "1   1  20228       1   156.0    85.0    140     90          3.0     1      0   \n",
       "2   2  18857       1   165.0    64.0    130     70          3.0     1      0   \n",
       "3   3  17623       2   169.0    82.0    150    100          1.0     1      0   \n",
       "4   4  17474       1   156.0    56.0    100     60          1.0     1      0   \n",
       "\n",
       "   alco  active  cardio  \n",
       "0   0.0       1       0  \n",
       "1   0.0       1       1  \n",
       "2   0.0       0       1  \n",
       "3   0.0       1       1  \n",
       "4   0.0       0       0  "
      ]
     },
     "execution_count": 5,
     "metadata": {},
     "output_type": "execute_result"
    }
   ],
   "source": [
    "df.head()"
   ]
  },
  {
   "cell_type": "code",
   "execution_count": 6,
   "metadata": {},
   "outputs": [
    {
     "data": {
      "text/html": [
       "<div>\n",
       "<style scoped>\n",
       "    .dataframe tbody tr th:only-of-type {\n",
       "        vertical-align: middle;\n",
       "    }\n",
       "\n",
       "    .dataframe tbody tr th {\n",
       "        vertical-align: top;\n",
       "    }\n",
       "\n",
       "    .dataframe thead th {\n",
       "        text-align: right;\n",
       "    }\n",
       "</style>\n",
       "<table border=\"1\" class=\"dataframe\">\n",
       "  <thead>\n",
       "    <tr style=\"text-align: right;\">\n",
       "      <th></th>\n",
       "      <th>count</th>\n",
       "      <th>mean</th>\n",
       "      <th>std</th>\n",
       "      <th>min</th>\n",
       "      <th>25%</th>\n",
       "      <th>50%</th>\n",
       "      <th>75%</th>\n",
       "      <th>max</th>\n",
       "    </tr>\n",
       "  </thead>\n",
       "  <tbody>\n",
       "    <tr>\n",
       "      <th>id</th>\n",
       "      <td>70003.0</td>\n",
       "      <td>49970.283431</td>\n",
       "      <td>28852.529858</td>\n",
       "      <td>0.0</td>\n",
       "      <td>25002.5</td>\n",
       "      <td>50000.0</td>\n",
       "      <td>74887.5</td>\n",
       "      <td>99999.0</td>\n",
       "    </tr>\n",
       "    <tr>\n",
       "      <th>age</th>\n",
       "      <td>70003.0</td>\n",
       "      <td>19468.876134</td>\n",
       "      <td>2467.212795</td>\n",
       "      <td>10798.0</td>\n",
       "      <td>17664.0</td>\n",
       "      <td>19703.0</td>\n",
       "      <td>21327.0</td>\n",
       "      <td>23713.0</td>\n",
       "    </tr>\n",
       "    <tr>\n",
       "      <th>gender</th>\n",
       "      <td>70003.0</td>\n",
       "      <td>1.349585</td>\n",
       "      <td>0.476842</td>\n",
       "      <td>1.0</td>\n",
       "      <td>1.0</td>\n",
       "      <td>1.0</td>\n",
       "      <td>2.0</td>\n",
       "      <td>2.0</td>\n",
       "    </tr>\n",
       "    <tr>\n",
       "      <th>height</th>\n",
       "      <td>70001.0</td>\n",
       "      <td>164.359023</td>\n",
       "      <td>8.210026</td>\n",
       "      <td>55.0</td>\n",
       "      <td>159.0</td>\n",
       "      <td>165.0</td>\n",
       "      <td>170.0</td>\n",
       "      <td>250.0</td>\n",
       "    </tr>\n",
       "    <tr>\n",
       "      <th>weight</th>\n",
       "      <td>70002.0</td>\n",
       "      <td>74.206013</td>\n",
       "      <td>14.396345</td>\n",
       "      <td>10.0</td>\n",
       "      <td>65.0</td>\n",
       "      <td>72.0</td>\n",
       "      <td>82.0</td>\n",
       "      <td>200.0</td>\n",
       "    </tr>\n",
       "    <tr>\n",
       "      <th>ap_hi</th>\n",
       "      <td>70003.0</td>\n",
       "      <td>128.817479</td>\n",
       "      <td>154.008162</td>\n",
       "      <td>-150.0</td>\n",
       "      <td>120.0</td>\n",
       "      <td>120.0</td>\n",
       "      <td>140.0</td>\n",
       "      <td>16020.0</td>\n",
       "    </tr>\n",
       "    <tr>\n",
       "      <th>ap_lo</th>\n",
       "      <td>70003.0</td>\n",
       "      <td>96.629987</td>\n",
       "      <td>188.468505</td>\n",
       "      <td>-70.0</td>\n",
       "      <td>80.0</td>\n",
       "      <td>80.0</td>\n",
       "      <td>90.0</td>\n",
       "      <td>11000.0</td>\n",
       "    </tr>\n",
       "    <tr>\n",
       "      <th>cholesterol</th>\n",
       "      <td>70001.0</td>\n",
       "      <td>1.366909</td>\n",
       "      <td>0.680255</td>\n",
       "      <td>1.0</td>\n",
       "      <td>1.0</td>\n",
       "      <td>1.0</td>\n",
       "      <td>2.0</td>\n",
       "      <td>3.0</td>\n",
       "    </tr>\n",
       "    <tr>\n",
       "      <th>gluc</th>\n",
       "      <td>70003.0</td>\n",
       "      <td>1.226476</td>\n",
       "      <td>0.572299</td>\n",
       "      <td>1.0</td>\n",
       "      <td>1.0</td>\n",
       "      <td>1.0</td>\n",
       "      <td>1.0</td>\n",
       "      <td>3.0</td>\n",
       "    </tr>\n",
       "    <tr>\n",
       "      <th>smoke</th>\n",
       "      <td>70003.0</td>\n",
       "      <td>0.088125</td>\n",
       "      <td>0.283478</td>\n",
       "      <td>0.0</td>\n",
       "      <td>0.0</td>\n",
       "      <td>0.0</td>\n",
       "      <td>0.0</td>\n",
       "      <td>1.0</td>\n",
       "    </tr>\n",
       "    <tr>\n",
       "      <th>alco</th>\n",
       "      <td>70002.0</td>\n",
       "      <td>0.053770</td>\n",
       "      <td>0.225565</td>\n",
       "      <td>0.0</td>\n",
       "      <td>0.0</td>\n",
       "      <td>0.0</td>\n",
       "      <td>0.0</td>\n",
       "      <td>1.0</td>\n",
       "    </tr>\n",
       "    <tr>\n",
       "      <th>active</th>\n",
       "      <td>70003.0</td>\n",
       "      <td>0.803737</td>\n",
       "      <td>0.397173</td>\n",
       "      <td>0.0</td>\n",
       "      <td>1.0</td>\n",
       "      <td>1.0</td>\n",
       "      <td>1.0</td>\n",
       "      <td>1.0</td>\n",
       "    </tr>\n",
       "    <tr>\n",
       "      <th>cardio</th>\n",
       "      <td>70003.0</td>\n",
       "      <td>0.499707</td>\n",
       "      <td>0.500003</td>\n",
       "      <td>0.0</td>\n",
       "      <td>0.0</td>\n",
       "      <td>0.0</td>\n",
       "      <td>1.0</td>\n",
       "      <td>1.0</td>\n",
       "    </tr>\n",
       "  </tbody>\n",
       "</table>\n",
       "</div>"
      ],
      "text/plain": [
       "               count          mean           std      min      25%      50%  \\\n",
       "id           70003.0  49970.283431  28852.529858      0.0  25002.5  50000.0   \n",
       "age          70003.0  19468.876134   2467.212795  10798.0  17664.0  19703.0   \n",
       "gender       70003.0      1.349585      0.476842      1.0      1.0      1.0   \n",
       "height       70001.0    164.359023      8.210026     55.0    159.0    165.0   \n",
       "weight       70002.0     74.206013     14.396345     10.0     65.0     72.0   \n",
       "ap_hi        70003.0    128.817479    154.008162   -150.0    120.0    120.0   \n",
       "ap_lo        70003.0     96.629987    188.468505    -70.0     80.0     80.0   \n",
       "cholesterol  70001.0      1.366909      0.680255      1.0      1.0      1.0   \n",
       "gluc         70003.0      1.226476      0.572299      1.0      1.0      1.0   \n",
       "smoke        70003.0      0.088125      0.283478      0.0      0.0      0.0   \n",
       "alco         70002.0      0.053770      0.225565      0.0      0.0      0.0   \n",
       "active       70003.0      0.803737      0.397173      0.0      1.0      1.0   \n",
       "cardio       70003.0      0.499707      0.500003      0.0      0.0      0.0   \n",
       "\n",
       "                 75%      max  \n",
       "id           74887.5  99999.0  \n",
       "age          21327.0  23713.0  \n",
       "gender           2.0      2.0  \n",
       "height         170.0    250.0  \n",
       "weight          82.0    200.0  \n",
       "ap_hi          140.0  16020.0  \n",
       "ap_lo           90.0  11000.0  \n",
       "cholesterol      2.0      3.0  \n",
       "gluc             1.0      3.0  \n",
       "smoke            0.0      1.0  \n",
       "alco             0.0      1.0  \n",
       "active           1.0      1.0  \n",
       "cardio           1.0      1.0  "
      ]
     },
     "execution_count": 6,
     "metadata": {},
     "output_type": "execute_result"
    }
   ],
   "source": [
    "df.describe().T"
   ]
  },
  {
   "attachments": {},
   "cell_type": "markdown",
   "metadata": {},
   "source": [
    "## 2. EDA & Data Cleaning\n",
    "Raw observation\n",
    "1. Age is in days\n",
    "2. cholestrol and alco can be changed to int since its categorical data\n",
    "3. height should be in int\n",
    "4. ap_hi and ap_lo shouldnt have anomalies"
   ]
  },
  {
   "cell_type": "code",
   "execution_count": 7,
   "metadata": {},
   "outputs": [
    {
     "data": {
      "text/html": [
       "<div>\n",
       "<style scoped>\n",
       "    .dataframe tbody tr th:only-of-type {\n",
       "        vertical-align: middle;\n",
       "    }\n",
       "\n",
       "    .dataframe tbody tr th {\n",
       "        vertical-align: top;\n",
       "    }\n",
       "\n",
       "    .dataframe thead th {\n",
       "        text-align: right;\n",
       "    }\n",
       "</style>\n",
       "<table border=\"1\" class=\"dataframe\">\n",
       "  <thead>\n",
       "    <tr style=\"text-align: right;\">\n",
       "      <th></th>\n",
       "      <th>id</th>\n",
       "      <th>age</th>\n",
       "      <th>gender</th>\n",
       "      <th>height</th>\n",
       "      <th>weight</th>\n",
       "      <th>ap_hi</th>\n",
       "      <th>ap_lo</th>\n",
       "      <th>cholesterol</th>\n",
       "      <th>gluc</th>\n",
       "      <th>smoke</th>\n",
       "      <th>alco</th>\n",
       "      <th>active</th>\n",
       "      <th>cardio</th>\n",
       "    </tr>\n",
       "  </thead>\n",
       "  <tbody>\n",
       "    <tr>\n",
       "      <th>0</th>\n",
       "      <td>0</td>\n",
       "      <td>50</td>\n",
       "      <td>2</td>\n",
       "      <td>168.0</td>\n",
       "      <td>62.0</td>\n",
       "      <td>110</td>\n",
       "      <td>80</td>\n",
       "      <td>1.0</td>\n",
       "      <td>1</td>\n",
       "      <td>0</td>\n",
       "      <td>0.0</td>\n",
       "      <td>1</td>\n",
       "      <td>0</td>\n",
       "    </tr>\n",
       "    <tr>\n",
       "      <th>1</th>\n",
       "      <td>1</td>\n",
       "      <td>55</td>\n",
       "      <td>1</td>\n",
       "      <td>156.0</td>\n",
       "      <td>85.0</td>\n",
       "      <td>140</td>\n",
       "      <td>90</td>\n",
       "      <td>3.0</td>\n",
       "      <td>1</td>\n",
       "      <td>0</td>\n",
       "      <td>0.0</td>\n",
       "      <td>1</td>\n",
       "      <td>1</td>\n",
       "    </tr>\n",
       "    <tr>\n",
       "      <th>2</th>\n",
       "      <td>2</td>\n",
       "      <td>51</td>\n",
       "      <td>1</td>\n",
       "      <td>165.0</td>\n",
       "      <td>64.0</td>\n",
       "      <td>130</td>\n",
       "      <td>70</td>\n",
       "      <td>3.0</td>\n",
       "      <td>1</td>\n",
       "      <td>0</td>\n",
       "      <td>0.0</td>\n",
       "      <td>0</td>\n",
       "      <td>1</td>\n",
       "    </tr>\n",
       "    <tr>\n",
       "      <th>3</th>\n",
       "      <td>3</td>\n",
       "      <td>48</td>\n",
       "      <td>2</td>\n",
       "      <td>169.0</td>\n",
       "      <td>82.0</td>\n",
       "      <td>150</td>\n",
       "      <td>100</td>\n",
       "      <td>1.0</td>\n",
       "      <td>1</td>\n",
       "      <td>0</td>\n",
       "      <td>0.0</td>\n",
       "      <td>1</td>\n",
       "      <td>1</td>\n",
       "    </tr>\n",
       "    <tr>\n",
       "      <th>4</th>\n",
       "      <td>4</td>\n",
       "      <td>47</td>\n",
       "      <td>1</td>\n",
       "      <td>156.0</td>\n",
       "      <td>56.0</td>\n",
       "      <td>100</td>\n",
       "      <td>60</td>\n",
       "      <td>1.0</td>\n",
       "      <td>1</td>\n",
       "      <td>0</td>\n",
       "      <td>0.0</td>\n",
       "      <td>0</td>\n",
       "      <td>0</td>\n",
       "    </tr>\n",
       "  </tbody>\n",
       "</table>\n",
       "</div>"
      ],
      "text/plain": [
       "   id  age  gender  height  weight  ap_hi  ap_lo  cholesterol  gluc  smoke  \\\n",
       "0   0   50       2   168.0    62.0    110     80          1.0     1      0   \n",
       "1   1   55       1   156.0    85.0    140     90          3.0     1      0   \n",
       "2   2   51       1   165.0    64.0    130     70          3.0     1      0   \n",
       "3   3   48       2   169.0    82.0    150    100          1.0     1      0   \n",
       "4   4   47       1   156.0    56.0    100     60          1.0     1      0   \n",
       "\n",
       "   alco  active  cardio  \n",
       "0   0.0       1       0  \n",
       "1   0.0       1       1  \n",
       "2   0.0       0       1  \n",
       "3   0.0       1       1  \n",
       "4   0.0       0       0  "
      ]
     },
     "execution_count": 7,
     "metadata": {},
     "output_type": "execute_result"
    }
   ],
   "source": [
    "#Converting age to year \n",
    "df['age'] = df['age'] // 365\n",
    "df.head()"
   ]
  },
  {
   "cell_type": "code",
   "execution_count": 8,
   "metadata": {},
   "outputs": [
    {
     "name": "stdout",
     "output_type": "stream",
     "text": [
      "<class 'pandas.core.frame.DataFrame'>\n",
      "RangeIndex: 70003 entries, 0 to 70002\n",
      "Data columns (total 13 columns):\n",
      " #   Column       Non-Null Count  Dtype  \n",
      "---  ------       --------------  -----  \n",
      " 0   id           70003 non-null  int64  \n",
      " 1   age          70003 non-null  int64  \n",
      " 2   gender       70003 non-null  int64  \n",
      " 3   height       70001 non-null  float64\n",
      " 4   weight       70002 non-null  float64\n",
      " 5   ap_hi        70003 non-null  int64  \n",
      " 6   ap_lo        70003 non-null  int64  \n",
      " 7   cholesterol  70001 non-null  float64\n",
      " 8   gluc         70003 non-null  int64  \n",
      " 9   smoke        70003 non-null  int64  \n",
      " 10  alco         70002 non-null  float64\n",
      " 11  active       70003 non-null  int64  \n",
      " 12  cardio       70003 non-null  int64  \n",
      "dtypes: float64(4), int64(9)\n",
      "memory usage: 6.9 MB\n"
     ]
    }
   ],
   "source": [
    "df.info()"
   ]
  },
  {
   "attachments": {},
   "cell_type": "markdown",
   "metadata": {},
   "source": [
    "### Checking for null"
   ]
  },
  {
   "cell_type": "code",
   "execution_count": 9,
   "metadata": {},
   "outputs": [
    {
     "data": {
      "text/plain": [
       "id             0\n",
       "age            0\n",
       "gender         0\n",
       "height         2\n",
       "weight         1\n",
       "ap_hi          0\n",
       "ap_lo          0\n",
       "cholesterol    2\n",
       "gluc           0\n",
       "smoke          0\n",
       "alco           1\n",
       "active         0\n",
       "cardio         0\n",
       "dtype: int64"
      ]
     },
     "execution_count": 9,
     "metadata": {},
     "output_type": "execute_result"
    }
   ],
   "source": [
    "df.isna().sum()"
   ]
  },
  {
   "cell_type": "code",
   "execution_count": 10,
   "metadata": {},
   "outputs": [
    {
     "data": {
      "text/plain": [
       "id             0\n",
       "age            0\n",
       "gender         0\n",
       "height         0\n",
       "weight         0\n",
       "ap_hi          0\n",
       "ap_lo          0\n",
       "cholesterol    0\n",
       "gluc           0\n",
       "smoke          0\n",
       "alco           0\n",
       "active         0\n",
       "cardio         0\n",
       "dtype: int64"
      ]
     },
     "execution_count": 10,
     "metadata": {},
     "output_type": "execute_result"
    }
   ],
   "source": [
    "df = df.dropna()\n",
    "df.isna().sum()"
   ]
  },
  {
   "cell_type": "code",
   "execution_count": 11,
   "metadata": {},
   "outputs": [
    {
     "data": {
      "text/plain": [
       "id             69994\n",
       "age               28\n",
       "gender             2\n",
       "height           109\n",
       "weight           287\n",
       "ap_hi            153\n",
       "ap_lo            157\n",
       "cholesterol        3\n",
       "gluc               3\n",
       "smoke              2\n",
       "alco               2\n",
       "active             2\n",
       "cardio             2\n",
       "dtype: int64"
      ]
     },
     "execution_count": 11,
     "metadata": {},
     "output_type": "execute_result"
    }
   ],
   "source": [
    "df.nunique()"
   ]
  },
  {
   "attachments": {},
   "cell_type": "markdown",
   "metadata": {},
   "source": [
    "### Checking for duplicates"
   ]
  },
  {
   "cell_type": "code",
   "execution_count": 12,
   "metadata": {},
   "outputs": [
    {
     "data": {
      "text/plain": [
       "3"
      ]
     },
     "execution_count": 12,
     "metadata": {},
     "output_type": "execute_result"
    }
   ],
   "source": [
    "df.duplicated().sum()"
   ]
  },
  {
   "cell_type": "code",
   "execution_count": 13,
   "metadata": {},
   "outputs": [
    {
     "data": {
      "text/plain": [
       "0"
      ]
     },
     "execution_count": 13,
     "metadata": {},
     "output_type": "execute_result"
    }
   ],
   "source": [
    "df = df.drop_duplicates()\n",
    "df.duplicated().sum()"
   ]
  },
  {
   "cell_type": "code",
   "execution_count": 14,
   "metadata": {},
   "outputs": [
    {
     "name": "stdout",
     "output_type": "stream",
     "text": [
      "<class 'pandas.core.frame.DataFrame'>\n",
      "Int64Index: 69994 entries, 0 to 70002\n",
      "Data columns (total 13 columns):\n",
      " #   Column       Non-Null Count  Dtype  \n",
      "---  ------       --------------  -----  \n",
      " 0   id           69994 non-null  int64  \n",
      " 1   age          69994 non-null  int64  \n",
      " 2   gender       69994 non-null  int64  \n",
      " 3   height       69994 non-null  float64\n",
      " 4   weight       69994 non-null  float64\n",
      " 5   ap_hi        69994 non-null  int64  \n",
      " 6   ap_lo        69994 non-null  int64  \n",
      " 7   cholesterol  69994 non-null  float64\n",
      " 8   gluc         69994 non-null  int64  \n",
      " 9   smoke        69994 non-null  int64  \n",
      " 10  alco         69994 non-null  float64\n",
      " 11  active       69994 non-null  int64  \n",
      " 12  cardio       69994 non-null  int64  \n",
      "dtypes: float64(4), int64(9)\n",
      "memory usage: 7.5 MB\n"
     ]
    }
   ],
   "source": [
    "df.info()"
   ]
  },
  {
   "attachments": {},
   "cell_type": "markdown",
   "metadata": {},
   "source": [
    "### Dropping unnecessary column"
   ]
  },
  {
   "cell_type": "code",
   "execution_count": 15,
   "metadata": {},
   "outputs": [
    {
     "data": {
      "text/html": [
       "<div>\n",
       "<style scoped>\n",
       "    .dataframe tbody tr th:only-of-type {\n",
       "        vertical-align: middle;\n",
       "    }\n",
       "\n",
       "    .dataframe tbody tr th {\n",
       "        vertical-align: top;\n",
       "    }\n",
       "\n",
       "    .dataframe thead th {\n",
       "        text-align: right;\n",
       "    }\n",
       "</style>\n",
       "<table border=\"1\" class=\"dataframe\">\n",
       "  <thead>\n",
       "    <tr style=\"text-align: right;\">\n",
       "      <th></th>\n",
       "      <th>age</th>\n",
       "      <th>gender</th>\n",
       "      <th>height</th>\n",
       "      <th>weight</th>\n",
       "      <th>ap_hi</th>\n",
       "      <th>ap_lo</th>\n",
       "      <th>cholesterol</th>\n",
       "      <th>gluc</th>\n",
       "      <th>smoke</th>\n",
       "      <th>alco</th>\n",
       "      <th>active</th>\n",
       "      <th>cardio</th>\n",
       "    </tr>\n",
       "  </thead>\n",
       "  <tbody>\n",
       "    <tr>\n",
       "      <th>0</th>\n",
       "      <td>50</td>\n",
       "      <td>2</td>\n",
       "      <td>168.0</td>\n",
       "      <td>62.0</td>\n",
       "      <td>110</td>\n",
       "      <td>80</td>\n",
       "      <td>1.0</td>\n",
       "      <td>1</td>\n",
       "      <td>0</td>\n",
       "      <td>0.0</td>\n",
       "      <td>1</td>\n",
       "      <td>0</td>\n",
       "    </tr>\n",
       "    <tr>\n",
       "      <th>1</th>\n",
       "      <td>55</td>\n",
       "      <td>1</td>\n",
       "      <td>156.0</td>\n",
       "      <td>85.0</td>\n",
       "      <td>140</td>\n",
       "      <td>90</td>\n",
       "      <td>3.0</td>\n",
       "      <td>1</td>\n",
       "      <td>0</td>\n",
       "      <td>0.0</td>\n",
       "      <td>1</td>\n",
       "      <td>1</td>\n",
       "    </tr>\n",
       "    <tr>\n",
       "      <th>2</th>\n",
       "      <td>51</td>\n",
       "      <td>1</td>\n",
       "      <td>165.0</td>\n",
       "      <td>64.0</td>\n",
       "      <td>130</td>\n",
       "      <td>70</td>\n",
       "      <td>3.0</td>\n",
       "      <td>1</td>\n",
       "      <td>0</td>\n",
       "      <td>0.0</td>\n",
       "      <td>0</td>\n",
       "      <td>1</td>\n",
       "    </tr>\n",
       "    <tr>\n",
       "      <th>3</th>\n",
       "      <td>48</td>\n",
       "      <td>2</td>\n",
       "      <td>169.0</td>\n",
       "      <td>82.0</td>\n",
       "      <td>150</td>\n",
       "      <td>100</td>\n",
       "      <td>1.0</td>\n",
       "      <td>1</td>\n",
       "      <td>0</td>\n",
       "      <td>0.0</td>\n",
       "      <td>1</td>\n",
       "      <td>1</td>\n",
       "    </tr>\n",
       "    <tr>\n",
       "      <th>4</th>\n",
       "      <td>47</td>\n",
       "      <td>1</td>\n",
       "      <td>156.0</td>\n",
       "      <td>56.0</td>\n",
       "      <td>100</td>\n",
       "      <td>60</td>\n",
       "      <td>1.0</td>\n",
       "      <td>1</td>\n",
       "      <td>0</td>\n",
       "      <td>0.0</td>\n",
       "      <td>0</td>\n",
       "      <td>0</td>\n",
       "    </tr>\n",
       "  </tbody>\n",
       "</table>\n",
       "</div>"
      ],
      "text/plain": [
       "   age  gender  height  weight  ap_hi  ap_lo  cholesterol  gluc  smoke  alco  \\\n",
       "0   50       2   168.0    62.0    110     80          1.0     1      0   0.0   \n",
       "1   55       1   156.0    85.0    140     90          3.0     1      0   0.0   \n",
       "2   51       1   165.0    64.0    130     70          3.0     1      0   0.0   \n",
       "3   48       2   169.0    82.0    150    100          1.0     1      0   0.0   \n",
       "4   47       1   156.0    56.0    100     60          1.0     1      0   0.0   \n",
       "\n",
       "   active  cardio  \n",
       "0       1       0  \n",
       "1       1       1  \n",
       "2       0       1  \n",
       "3       1       1  \n",
       "4       0       0  "
      ]
     },
     "execution_count": 15,
     "metadata": {},
     "output_type": "execute_result"
    }
   ],
   "source": [
    "df=df.drop('id', axis=1)\n",
    "df.head()"
   ]
  },
  {
   "attachments": {},
   "cell_type": "markdown",
   "metadata": {},
   "source": [
    "### Handling outliers and anomalies"
   ]
  },
  {
   "cell_type": "code",
   "execution_count": 16,
   "metadata": {},
   "outputs": [
    {
     "data": {
      "text/html": [
       "<div>\n",
       "<style scoped>\n",
       "    .dataframe tbody tr th:only-of-type {\n",
       "        vertical-align: middle;\n",
       "    }\n",
       "\n",
       "    .dataframe tbody tr th {\n",
       "        vertical-align: top;\n",
       "    }\n",
       "\n",
       "    .dataframe thead th {\n",
       "        text-align: right;\n",
       "    }\n",
       "</style>\n",
       "<table border=\"1\" class=\"dataframe\">\n",
       "  <thead>\n",
       "    <tr style=\"text-align: right;\">\n",
       "      <th></th>\n",
       "      <th>age</th>\n",
       "      <th>gender</th>\n",
       "      <th>height</th>\n",
       "      <th>weight</th>\n",
       "      <th>ap_hi</th>\n",
       "      <th>ap_lo</th>\n",
       "      <th>cholesterol</th>\n",
       "      <th>gluc</th>\n",
       "      <th>smoke</th>\n",
       "      <th>alco</th>\n",
       "      <th>active</th>\n",
       "      <th>cardio</th>\n",
       "    </tr>\n",
       "  </thead>\n",
       "  <tbody>\n",
       "    <tr>\n",
       "      <th>0</th>\n",
       "      <td>50</td>\n",
       "      <td>2</td>\n",
       "      <td>168</td>\n",
       "      <td>62</td>\n",
       "      <td>110</td>\n",
       "      <td>80</td>\n",
       "      <td>1</td>\n",
       "      <td>1</td>\n",
       "      <td>0</td>\n",
       "      <td>0</td>\n",
       "      <td>1</td>\n",
       "      <td>0</td>\n",
       "    </tr>\n",
       "    <tr>\n",
       "      <th>1</th>\n",
       "      <td>55</td>\n",
       "      <td>1</td>\n",
       "      <td>156</td>\n",
       "      <td>85</td>\n",
       "      <td>140</td>\n",
       "      <td>90</td>\n",
       "      <td>3</td>\n",
       "      <td>1</td>\n",
       "      <td>0</td>\n",
       "      <td>0</td>\n",
       "      <td>1</td>\n",
       "      <td>1</td>\n",
       "    </tr>\n",
       "    <tr>\n",
       "      <th>2</th>\n",
       "      <td>51</td>\n",
       "      <td>1</td>\n",
       "      <td>165</td>\n",
       "      <td>64</td>\n",
       "      <td>130</td>\n",
       "      <td>70</td>\n",
       "      <td>3</td>\n",
       "      <td>1</td>\n",
       "      <td>0</td>\n",
       "      <td>0</td>\n",
       "      <td>0</td>\n",
       "      <td>1</td>\n",
       "    </tr>\n",
       "    <tr>\n",
       "      <th>3</th>\n",
       "      <td>48</td>\n",
       "      <td>2</td>\n",
       "      <td>169</td>\n",
       "      <td>82</td>\n",
       "      <td>150</td>\n",
       "      <td>100</td>\n",
       "      <td>1</td>\n",
       "      <td>1</td>\n",
       "      <td>0</td>\n",
       "      <td>0</td>\n",
       "      <td>1</td>\n",
       "      <td>1</td>\n",
       "    </tr>\n",
       "    <tr>\n",
       "      <th>4</th>\n",
       "      <td>47</td>\n",
       "      <td>1</td>\n",
       "      <td>156</td>\n",
       "      <td>56</td>\n",
       "      <td>100</td>\n",
       "      <td>60</td>\n",
       "      <td>1</td>\n",
       "      <td>1</td>\n",
       "      <td>0</td>\n",
       "      <td>0</td>\n",
       "      <td>0</td>\n",
       "      <td>0</td>\n",
       "    </tr>\n",
       "  </tbody>\n",
       "</table>\n",
       "</div>"
      ],
      "text/plain": [
       "   age  gender  height  weight  ap_hi  ap_lo  cholesterol  gluc  smoke  alco  \\\n",
       "0   50       2     168      62    110     80            1     1      0     0   \n",
       "1   55       1     156      85    140     90            3     1      0     0   \n",
       "2   51       1     165      64    130     70            3     1      0     0   \n",
       "3   48       2     169      82    150    100            1     1      0     0   \n",
       "4   47       1     156      56    100     60            1     1      0     0   \n",
       "\n",
       "   active  cardio  \n",
       "0       1       0  \n",
       "1       1       1  \n",
       "2       0       1  \n",
       "3       1       1  \n",
       "4       0       0  "
      ]
     },
     "execution_count": 16,
     "metadata": {},
     "output_type": "execute_result"
    }
   ],
   "source": [
    "#Change type to int\n",
    "df=df.astype({'weight':'int','height':'int','alco':'int', 'cholesterol':'int'})\n",
    "df.head()"
   ]
  },
  {
   "cell_type": "code",
   "execution_count": 17,
   "metadata": {},
   "outputs": [
    {
     "data": {
      "image/png": "[encoded data removed]",
      "text/plain": [
       "<Figure size 1000x600 with 1 Axes>"
      ]
     },
     "metadata": {},
     "output_type": "display_data"
    }
   ],
   "source": [
    "df.boxplot(figsize=(10,6),column=['age'])\n",
    "plt.show()"
   ]
  },
  {
   "cell_type": "code",
   "execution_count": 18,
   "metadata": {},
   "outputs": [
    {
     "data": {
      "image/png": "[encoded data removed]",
      "text/plain": [
       "<Figure size 1000x600 with 1 Axes>"
      ]
     },
     "metadata": {},
     "output_type": "display_data"
    }
   ],
   "source": [
    "df.boxplot(figsize=(10,6),column=['height','weight'])\n",
    "plt.show()"
   ]
  },
  {
   "attachments": {},
   "cell_type": "markdown",
   "metadata": {},
   "source": [
    "Theres a wide spread in height and weight, hence to handle that. I'm using the interquartile range method"
   ]
  },
  {
   "cell_type": "code",
   "execution_count": 19,
   "metadata": {},
   "outputs": [],
   "source": [
    "Q1 = df['weight'].quantile(0.25)\n",
    "\n",
    "Q3 = df['weight'].quantile(0.75)\n",
    "\n",
    "IQR = Q3 - Q1\n",
    "\n",
    "# filter out outliers for weight\n",
    "\n",
    "df = df[~((df['weight'] < (Q1 - 1.5 * IQR)) | (df['weight'] > (Q3 + 1.5 * IQR)))]\n",
    "\n",
    "Q1_h = df['height'].quantile(0.25)\n",
    "\n",
    "Q3_h = df['height'].quantile(0.75)\n",
    "\n",
    "IQR = Q3 - Q1\n",
    "\n",
    "# filter out outliers for height\n",
    "\n",
    "df = df[~((df['height'] < (Q1_h - 1.5 * IQR)) | (df['height'] > (Q3_h + 1.5 * IQR)))]\n",
    "\n"
   ]
  },
  {
   "attachments": {},
   "cell_type": "markdown",
   "metadata": {},
   "source": [
    "This shows the boxplot once it is handled"
   ]
  },
  {
   "cell_type": "code",
   "execution_count": 20,
   "metadata": {},
   "outputs": [
    {
     "data": {
      "image/png": "[encoded data removed]",
      "text/plain": [
       "<Figure size 1000x600 with 1 Axes>"
      ]
     },
     "metadata": {},
     "output_type": "display_data"
    },
    {
     "data": {
      "text/plain": [
       "(68049, 12)"
      ]
     },
     "execution_count": 20,
     "metadata": {},
     "output_type": "execute_result"
    }
   ],
   "source": [
    "df.boxplot(figsize=(10,6),column=['height','weight'])\n",
    "plt.show()\n",
    "df.shape"
   ]
  },
  {
   "attachments": {},
   "cell_type": "markdown",
   "metadata": {},
   "source": [
    "**ap_hi**\n",
    "range should be between 0 and 250\n",
    "\n",
    "**ap_lo**\n",
    "range should be between 0 and 200\n",
    "\n",
    "Hence, there are anomalies detected"
   ]
  },
  {
   "cell_type": "code",
   "execution_count": 21,
   "metadata": {},
   "outputs": [
    {
     "data": {
      "image/png": "[encoded data removed]",
      "text/plain": [
       "<Figure size 1000x600 with 1 Axes>"
      ]
     },
     "metadata": {},
     "output_type": "display_data"
    }
   ],
   "source": [
    "df.boxplot(figsize=(10,6),column=['ap_hi','ap_lo'])\n",
    "plt.show()"
   ]
  },
  {
   "cell_type": "code",
   "execution_count": 22,
   "metadata": {},
   "outputs": [],
   "source": [
    "df['ap_hi'] = df['ap_hi'].clip(0,250)\n",
    "df['ap_lo'] = df['ap_lo'].clip(0,200)"
   ]
  },
  {
   "attachments": {},
   "cell_type": "markdown",
   "metadata": {},
   "source": [
    "Below, shows the boxplot and description once it is handled via .clip method"
   ]
  },
  {
   "cell_type": "code",
   "execution_count": 23,
   "metadata": {},
   "outputs": [
    {
     "data": {
      "image/png": "[encoded data removed]",
      "text/plain": [
       "<Figure size 1000x600 with 1 Axes>"
      ]
     },
     "metadata": {},
     "output_type": "display_data"
    },
    {
     "data": {
      "text/html": [
       "<div>\n",
       "<style scoped>\n",
       "    .dataframe tbody tr th:only-of-type {\n",
       "        vertical-align: middle;\n",
       "    }\n",
       "\n",
       "    .dataframe tbody tr th {\n",
       "        vertical-align: top;\n",
       "    }\n",
       "\n",
       "    .dataframe thead th {\n",
       "        text-align: right;\n",
       "    }\n",
       "</style>\n",
       "<table border=\"1\" class=\"dataframe\">\n",
       "  <thead>\n",
       "    <tr style=\"text-align: right;\">\n",
       "      <th></th>\n",
       "      <th>count</th>\n",
       "      <th>mean</th>\n",
       "      <th>std</th>\n",
       "      <th>min</th>\n",
       "      <th>25%</th>\n",
       "      <th>50%</th>\n",
       "      <th>75%</th>\n",
       "      <th>max</th>\n",
       "    </tr>\n",
       "  </thead>\n",
       "  <tbody>\n",
       "    <tr>\n",
       "      <th>age</th>\n",
       "      <td>68049.0</td>\n",
       "      <td>52.838837</td>\n",
       "      <td>6.768915</td>\n",
       "      <td>29.0</td>\n",
       "      <td>48.0</td>\n",
       "      <td>53.0</td>\n",
       "      <td>58.0</td>\n",
       "      <td>64.0</td>\n",
       "    </tr>\n",
       "    <tr>\n",
       "      <th>gender</th>\n",
       "      <td>68049.0</td>\n",
       "      <td>1.347235</td>\n",
       "      <td>0.476095</td>\n",
       "      <td>1.0</td>\n",
       "      <td>1.0</td>\n",
       "      <td>1.0</td>\n",
       "      <td>2.0</td>\n",
       "      <td>2.0</td>\n",
       "    </tr>\n",
       "    <tr>\n",
       "      <th>height</th>\n",
       "      <td>68049.0</td>\n",
       "      <td>164.336581</td>\n",
       "      <td>7.738666</td>\n",
       "      <td>134.0</td>\n",
       "      <td>159.0</td>\n",
       "      <td>165.0</td>\n",
       "      <td>170.0</td>\n",
       "      <td>195.0</td>\n",
       "    </tr>\n",
       "    <tr>\n",
       "      <th>weight</th>\n",
       "      <td>68049.0</td>\n",
       "      <td>73.078679</td>\n",
       "      <td>12.437565</td>\n",
       "      <td>40.0</td>\n",
       "      <td>65.0</td>\n",
       "      <td>72.0</td>\n",
       "      <td>81.0</td>\n",
       "      <td>107.0</td>\n",
       "    </tr>\n",
       "    <tr>\n",
       "      <th>ap_hi</th>\n",
       "      <td>68049.0</td>\n",
       "      <td>126.461256</td>\n",
       "      <td>18.126894</td>\n",
       "      <td>0.0</td>\n",
       "      <td>120.0</td>\n",
       "      <td>120.0</td>\n",
       "      <td>140.0</td>\n",
       "      <td>250.0</td>\n",
       "    </tr>\n",
       "    <tr>\n",
       "      <th>ap_lo</th>\n",
       "      <td>68049.0</td>\n",
       "      <td>82.730856</td>\n",
       "      <td>16.625828</td>\n",
       "      <td>0.0</td>\n",
       "      <td>80.0</td>\n",
       "      <td>80.0</td>\n",
       "      <td>90.0</td>\n",
       "      <td>200.0</td>\n",
       "    </tr>\n",
       "    <tr>\n",
       "      <th>cholesterol</th>\n",
       "      <td>68049.0</td>\n",
       "      <td>1.359741</td>\n",
       "      <td>0.674730</td>\n",
       "      <td>1.0</td>\n",
       "      <td>1.0</td>\n",
       "      <td>1.0</td>\n",
       "      <td>1.0</td>\n",
       "      <td>3.0</td>\n",
       "    </tr>\n",
       "    <tr>\n",
       "      <th>gluc</th>\n",
       "      <td>68049.0</td>\n",
       "      <td>1.220856</td>\n",
       "      <td>0.566625</td>\n",
       "      <td>1.0</td>\n",
       "      <td>1.0</td>\n",
       "      <td>1.0</td>\n",
       "      <td>1.0</td>\n",
       "      <td>3.0</td>\n",
       "    </tr>\n",
       "    <tr>\n",
       "      <th>smoke</th>\n",
       "      <td>68049.0</td>\n",
       "      <td>0.086996</td>\n",
       "      <td>0.281831</td>\n",
       "      <td>0.0</td>\n",
       "      <td>0.0</td>\n",
       "      <td>0.0</td>\n",
       "      <td>0.0</td>\n",
       "      <td>1.0</td>\n",
       "    </tr>\n",
       "    <tr>\n",
       "      <th>alco</th>\n",
       "      <td>68049.0</td>\n",
       "      <td>0.052844</td>\n",
       "      <td>0.223724</td>\n",
       "      <td>0.0</td>\n",
       "      <td>0.0</td>\n",
       "      <td>0.0</td>\n",
       "      <td>0.0</td>\n",
       "      <td>1.0</td>\n",
       "    </tr>\n",
       "    <tr>\n",
       "      <th>active</th>\n",
       "      <td>68049.0</td>\n",
       "      <td>0.804391</td>\n",
       "      <td>0.396672</td>\n",
       "      <td>0.0</td>\n",
       "      <td>1.0</td>\n",
       "      <td>1.0</td>\n",
       "      <td>1.0</td>\n",
       "      <td>1.0</td>\n",
       "    </tr>\n",
       "    <tr>\n",
       "      <th>cardio</th>\n",
       "      <td>68049.0</td>\n",
       "      <td>0.494629</td>\n",
       "      <td>0.499975</td>\n",
       "      <td>0.0</td>\n",
       "      <td>0.0</td>\n",
       "      <td>0.0</td>\n",
       "      <td>1.0</td>\n",
       "      <td>1.0</td>\n",
       "    </tr>\n",
       "  </tbody>\n",
       "</table>\n",
       "</div>"
      ],
      "text/plain": [
       "               count        mean        std    min    25%    50%    75%    max\n",
       "age          68049.0   52.838837   6.768915   29.0   48.0   53.0   58.0   64.0\n",
       "gender       68049.0    1.347235   0.476095    1.0    1.0    1.0    2.0    2.0\n",
       "height       68049.0  164.336581   7.738666  134.0  159.0  165.0  170.0  195.0\n",
       "weight       68049.0   73.078679  12.437565   40.0   65.0   72.0   81.0  107.0\n",
       "ap_hi        68049.0  126.461256  18.126894    0.0  120.0  120.0  140.0  250.0\n",
       "ap_lo        68049.0   82.730856  16.625828    0.0   80.0   80.0   90.0  200.0\n",
       "cholesterol  68049.0    1.359741   0.674730    1.0    1.0    1.0    1.0    3.0\n",
       "gluc         68049.0    1.220856   0.566625    1.0    1.0    1.0    1.0    3.0\n",
       "smoke        68049.0    0.086996   0.281831    0.0    0.0    0.0    0.0    1.0\n",
       "alco         68049.0    0.052844   0.223724    0.0    0.0    0.0    0.0    1.0\n",
       "active       68049.0    0.804391   0.396672    0.0    1.0    1.0    1.0    1.0\n",
       "cardio       68049.0    0.494629   0.499975    0.0    0.0    0.0    1.0    1.0"
      ]
     },
     "execution_count": 23,
     "metadata": {},
     "output_type": "execute_result"
    }
   ],
   "source": [
    "df.boxplot(figsize=(10,6),column=['ap_hi','ap_lo'])\n",
    "plt.show()\n",
    "df.describe().T"
   ]
  },
  {
   "attachments": {},
   "cell_type": "markdown",
   "metadata": {},
   "source": [
    "### Feature Engineering"
   ]
  },
  {
   "cell_type": "code",
   "execution_count": 24,
   "metadata": {},
   "outputs": [
    {
     "data": {
      "text/html": [
       "<div>\n",
       "<style scoped>\n",
       "    .dataframe tbody tr th:only-of-type {\n",
       "        vertical-align: middle;\n",
       "    }\n",
       "\n",
       "    .dataframe tbody tr th {\n",
       "        vertical-align: top;\n",
       "    }\n",
       "\n",
       "    .dataframe thead th {\n",
       "        text-align: right;\n",
       "    }\n",
       "</style>\n",
       "<table border=\"1\" class=\"dataframe\">\n",
       "  <thead>\n",
       "    <tr style=\"text-align: right;\">\n",
       "      <th></th>\n",
       "      <th>age</th>\n",
       "      <th>gender</th>\n",
       "      <th>height</th>\n",
       "      <th>weight</th>\n",
       "      <th>ap_hi</th>\n",
       "      <th>ap_lo</th>\n",
       "      <th>cholesterol</th>\n",
       "      <th>gluc</th>\n",
       "      <th>smoke</th>\n",
       "      <th>alco</th>\n",
       "      <th>active</th>\n",
       "      <th>cardio</th>\n",
       "      <th>bmi</th>\n",
       "    </tr>\n",
       "  </thead>\n",
       "  <tbody>\n",
       "    <tr>\n",
       "      <th>0</th>\n",
       "      <td>50</td>\n",
       "      <td>2</td>\n",
       "      <td>168</td>\n",
       "      <td>62</td>\n",
       "      <td>110</td>\n",
       "      <td>80</td>\n",
       "      <td>1</td>\n",
       "      <td>1</td>\n",
       "      <td>0</td>\n",
       "      <td>0</td>\n",
       "      <td>1</td>\n",
       "      <td>0</td>\n",
       "      <td>21.967120</td>\n",
       "    </tr>\n",
       "    <tr>\n",
       "      <th>1</th>\n",
       "      <td>55</td>\n",
       "      <td>1</td>\n",
       "      <td>156</td>\n",
       "      <td>85</td>\n",
       "      <td>140</td>\n",
       "      <td>90</td>\n",
       "      <td>3</td>\n",
       "      <td>1</td>\n",
       "      <td>0</td>\n",
       "      <td>0</td>\n",
       "      <td>1</td>\n",
       "      <td>1</td>\n",
       "      <td>34.927679</td>\n",
       "    </tr>\n",
       "    <tr>\n",
       "      <th>2</th>\n",
       "      <td>51</td>\n",
       "      <td>1</td>\n",
       "      <td>165</td>\n",
       "      <td>64</td>\n",
       "      <td>130</td>\n",
       "      <td>70</td>\n",
       "      <td>3</td>\n",
       "      <td>1</td>\n",
       "      <td>0</td>\n",
       "      <td>0</td>\n",
       "      <td>0</td>\n",
       "      <td>1</td>\n",
       "      <td>23.507805</td>\n",
       "    </tr>\n",
       "    <tr>\n",
       "      <th>3</th>\n",
       "      <td>48</td>\n",
       "      <td>2</td>\n",
       "      <td>169</td>\n",
       "      <td>82</td>\n",
       "      <td>150</td>\n",
       "      <td>100</td>\n",
       "      <td>1</td>\n",
       "      <td>1</td>\n",
       "      <td>0</td>\n",
       "      <td>0</td>\n",
       "      <td>1</td>\n",
       "      <td>1</td>\n",
       "      <td>28.710479</td>\n",
       "    </tr>\n",
       "    <tr>\n",
       "      <th>4</th>\n",
       "      <td>47</td>\n",
       "      <td>1</td>\n",
       "      <td>156</td>\n",
       "      <td>56</td>\n",
       "      <td>100</td>\n",
       "      <td>60</td>\n",
       "      <td>1</td>\n",
       "      <td>1</td>\n",
       "      <td>0</td>\n",
       "      <td>0</td>\n",
       "      <td>0</td>\n",
       "      <td>0</td>\n",
       "      <td>23.011177</td>\n",
       "    </tr>\n",
       "  </tbody>\n",
       "</table>\n",
       "</div>"
      ],
      "text/plain": [
       "   age  gender  height  weight  ap_hi  ap_lo  cholesterol  gluc  smoke  alco  \\\n",
       "0   50       2     168      62    110     80            1     1      0     0   \n",
       "1   55       1     156      85    140     90            3     1      0     0   \n",
       "2   51       1     165      64    130     70            3     1      0     0   \n",
       "3   48       2     169      82    150    100            1     1      0     0   \n",
       "4   47       1     156      56    100     60            1     1      0     0   \n",
       "\n",
       "   active  cardio        bmi  \n",
       "0       1       0  21.967120  \n",
       "1       1       1  34.927679  \n",
       "2       0       1  23.507805  \n",
       "3       1       1  28.710479  \n",
       "4       0       0  23.011177  "
      ]
     },
     "execution_count": 24,
     "metadata": {},
     "output_type": "execute_result"
    }
   ],
   "source": [
    "df[\"bmi\"] = df[\"weight\"] / (df[\"height\"]/100)**2\n",
    "df.head()"
   ]
  },
  {
   "cell_type": "code",
   "execution_count": 25,
   "metadata": {},
   "outputs": [
    {
     "data": {
      "text/plain": [
       "(68049, 13)"
      ]
     },
     "execution_count": 25,
     "metadata": {},
     "output_type": "execute_result"
    }
   ],
   "source": [
    "df.shape"
   ]
  },
  {
   "cell_type": "code",
   "execution_count": 26,
   "metadata": {},
   "outputs": [
    {
     "data": {
      "text/html": [
       "<div>\n",
       "<style scoped>\n",
       "    .dataframe tbody tr th:only-of-type {\n",
       "        vertical-align: middle;\n",
       "    }\n",
       "\n",
       "    .dataframe tbody tr th {\n",
       "        vertical-align: top;\n",
       "    }\n",
       "\n",
       "    .dataframe thead th {\n",
       "        text-align: right;\n",
       "    }\n",
       "</style>\n",
       "<table border=\"1\" class=\"dataframe\">\n",
       "  <thead>\n",
       "    <tr style=\"text-align: right;\">\n",
       "      <th></th>\n",
       "      <th>count</th>\n",
       "      <th>mean</th>\n",
       "      <th>std</th>\n",
       "      <th>min</th>\n",
       "      <th>25%</th>\n",
       "      <th>50%</th>\n",
       "      <th>75%</th>\n",
       "      <th>max</th>\n",
       "    </tr>\n",
       "  </thead>\n",
       "  <tbody>\n",
       "    <tr>\n",
       "      <th>age</th>\n",
       "      <td>68049.0</td>\n",
       "      <td>52.838837</td>\n",
       "      <td>6.768915</td>\n",
       "      <td>29.000000</td>\n",
       "      <td>48.000000</td>\n",
       "      <td>53.000000</td>\n",
       "      <td>58.000000</td>\n",
       "      <td>64.000000</td>\n",
       "    </tr>\n",
       "    <tr>\n",
       "      <th>gender</th>\n",
       "      <td>68049.0</td>\n",
       "      <td>1.347235</td>\n",
       "      <td>0.476095</td>\n",
       "      <td>1.000000</td>\n",
       "      <td>1.000000</td>\n",
       "      <td>1.000000</td>\n",
       "      <td>2.000000</td>\n",
       "      <td>2.000000</td>\n",
       "    </tr>\n",
       "    <tr>\n",
       "      <th>height</th>\n",
       "      <td>68049.0</td>\n",
       "      <td>164.336581</td>\n",
       "      <td>7.738666</td>\n",
       "      <td>134.000000</td>\n",
       "      <td>159.000000</td>\n",
       "      <td>165.000000</td>\n",
       "      <td>170.000000</td>\n",
       "      <td>195.000000</td>\n",
       "    </tr>\n",
       "    <tr>\n",
       "      <th>weight</th>\n",
       "      <td>68049.0</td>\n",
       "      <td>73.078679</td>\n",
       "      <td>12.437565</td>\n",
       "      <td>40.000000</td>\n",
       "      <td>65.000000</td>\n",
       "      <td>72.000000</td>\n",
       "      <td>81.000000</td>\n",
       "      <td>107.000000</td>\n",
       "    </tr>\n",
       "    <tr>\n",
       "      <th>ap_hi</th>\n",
       "      <td>68049.0</td>\n",
       "      <td>126.461256</td>\n",
       "      <td>18.126894</td>\n",
       "      <td>0.000000</td>\n",
       "      <td>120.000000</td>\n",
       "      <td>120.000000</td>\n",
       "      <td>140.000000</td>\n",
       "      <td>250.000000</td>\n",
       "    </tr>\n",
       "    <tr>\n",
       "      <th>ap_lo</th>\n",
       "      <td>68049.0</td>\n",
       "      <td>82.730856</td>\n",
       "      <td>16.625828</td>\n",
       "      <td>0.000000</td>\n",
       "      <td>80.000000</td>\n",
       "      <td>80.000000</td>\n",
       "      <td>90.000000</td>\n",
       "      <td>200.000000</td>\n",
       "    </tr>\n",
       "    <tr>\n",
       "      <th>cholesterol</th>\n",
       "      <td>68049.0</td>\n",
       "      <td>1.359741</td>\n",
       "      <td>0.674730</td>\n",
       "      <td>1.000000</td>\n",
       "      <td>1.000000</td>\n",
       "      <td>1.000000</td>\n",
       "      <td>1.000000</td>\n",
       "      <td>3.000000</td>\n",
       "    </tr>\n",
       "    <tr>\n",
       "      <th>gluc</th>\n",
       "      <td>68049.0</td>\n",
       "      <td>1.220856</td>\n",
       "      <td>0.566625</td>\n",
       "      <td>1.000000</td>\n",
       "      <td>1.000000</td>\n",
       "      <td>1.000000</td>\n",
       "      <td>1.000000</td>\n",
       "      <td>3.000000</td>\n",
       "    </tr>\n",
       "    <tr>\n",
       "      <th>smoke</th>\n",
       "      <td>68049.0</td>\n",
       "      <td>0.086996</td>\n",
       "      <td>0.281831</td>\n",
       "      <td>0.000000</td>\n",
       "      <td>0.000000</td>\n",
       "      <td>0.000000</td>\n",
       "      <td>0.000000</td>\n",
       "      <td>1.000000</td>\n",
       "    </tr>\n",
       "    <tr>\n",
       "      <th>alco</th>\n",
       "      <td>68049.0</td>\n",
       "      <td>0.052844</td>\n",
       "      <td>0.223724</td>\n",
       "      <td>0.000000</td>\n",
       "      <td>0.000000</td>\n",
       "      <td>0.000000</td>\n",
       "      <td>0.000000</td>\n",
       "      <td>1.000000</td>\n",
       "    </tr>\n",
       "    <tr>\n",
       "      <th>active</th>\n",
       "      <td>68049.0</td>\n",
       "      <td>0.804391</td>\n",
       "      <td>0.396672</td>\n",
       "      <td>0.000000</td>\n",
       "      <td>1.000000</td>\n",
       "      <td>1.000000</td>\n",
       "      <td>1.000000</td>\n",
       "      <td>1.000000</td>\n",
       "    </tr>\n",
       "    <tr>\n",
       "      <th>cardio</th>\n",
       "      <td>68049.0</td>\n",
       "      <td>0.494629</td>\n",
       "      <td>0.499975</td>\n",
       "      <td>0.000000</td>\n",
       "      <td>0.000000</td>\n",
       "      <td>0.000000</td>\n",
       "      <td>1.000000</td>\n",
       "      <td>1.000000</td>\n",
       "    </tr>\n",
       "    <tr>\n",
       "      <th>bmi</th>\n",
       "      <td>68049.0</td>\n",
       "      <td>27.105019</td>\n",
       "      <td>4.620599</td>\n",
       "      <td>13.520822</td>\n",
       "      <td>23.833005</td>\n",
       "      <td>26.222222</td>\n",
       "      <td>29.760838</td>\n",
       "      <td>53.317238</td>\n",
       "    </tr>\n",
       "  </tbody>\n",
       "</table>\n",
       "</div>"
      ],
      "text/plain": [
       "               count        mean        std         min         25%  \\\n",
       "age          68049.0   52.838837   6.768915   29.000000   48.000000   \n",
       "gender       68049.0    1.347235   0.476095    1.000000    1.000000   \n",
       "height       68049.0  164.336581   7.738666  134.000000  159.000000   \n",
       "weight       68049.0   73.078679  12.437565   40.000000   65.000000   \n",
       "ap_hi        68049.0  126.461256  18.126894    0.000000  120.000000   \n",
       "ap_lo        68049.0   82.730856  16.625828    0.000000   80.000000   \n",
       "cholesterol  68049.0    1.359741   0.674730    1.000000    1.000000   \n",
       "gluc         68049.0    1.220856   0.566625    1.000000    1.000000   \n",
       "smoke        68049.0    0.086996   0.281831    0.000000    0.000000   \n",
       "alco         68049.0    0.052844   0.223724    0.000000    0.000000   \n",
       "active       68049.0    0.804391   0.396672    0.000000    1.000000   \n",
       "cardio       68049.0    0.494629   0.499975    0.000000    0.000000   \n",
       "bmi          68049.0   27.105019   4.620599   13.520822   23.833005   \n",
       "\n",
       "                    50%         75%         max  \n",
       "age           53.000000   58.000000   64.000000  \n",
       "gender         1.000000    2.000000    2.000000  \n",
       "height       165.000000  170.000000  195.000000  \n",
       "weight        72.000000   81.000000  107.000000  \n",
       "ap_hi        120.000000  140.000000  250.000000  \n",
       "ap_lo         80.000000   90.000000  200.000000  \n",
       "cholesterol    1.000000    1.000000    3.000000  \n",
       "gluc           1.000000    1.000000    3.000000  \n",
       "smoke          0.000000    0.000000    1.000000  \n",
       "alco           0.000000    0.000000    1.000000  \n",
       "active         1.000000    1.000000    1.000000  \n",
       "cardio         0.000000    1.000000    1.000000  \n",
       "bmi           26.222222   29.760838   53.317238  "
      ]
     },
     "execution_count": 26,
     "metadata": {},
     "output_type": "execute_result"
    }
   ],
   "source": [
    "df.describe().T"
   ]
  },
  {
   "cell_type": "code",
   "execution_count": 27,
   "metadata": {},
   "outputs": [],
   "source": [
    "con = ['age','height','weight','ap_hi','ap_lo','bmi']\n",
    "cat = df.drop(labels=con, axis=1).columns"
   ]
  },
  {
   "cell_type": "code",
   "execution_count": 28,
   "metadata": {},
   "outputs": [
    {
     "data": {
      "image/png": "[encoded data removed]",
      "text/plain": [
       "<Figure size 640x480 with 1 Axes>"
      ]
     },
     "metadata": {},
     "output_type": "display_data"
    },
    {
     "data": {
      "image/png": "[encoded data removed]",
      "text/plain": [
       "<Figure size 640x480 with 1 Axes>"
      ]
     },
     "metadata": {},
     "output_type": "display_data"
    },
    {
     "data": {
      "image/png": "[encoded data removed]",
      "text/plain": [
       "<Figure size 640x480 with 1 Axes>"
      ]
     },
     "metadata": {},
     "output_type": "display_data"
    },
    {
     "data": {
      "image/png": "[encoded data removed]",
      "text/plain": [
       "<Figure size 640x480 with 1 Axes>"
      ]
     },
     "metadata": {},
     "output_type": "display_data"
    },
    {
     "data": {
      "image/png": "[encoded data removed]",
      "text/plain": [
       "<Figure size 640x480 with 1 Axes>"
      ]
     },
     "metadata": {},
     "output_type": "display_data"
    },
    {
     "data": {
      "image/png": "[encoded data removed]",
      "text/plain": [
       "<Figure size 640x480 with 1 Axes>"
      ]
     },
     "metadata": {},
     "output_type": "display_data"
    },
    {
     "data": {
      "image/png": "[encoded data removed]",
      "text/plain": [
       "<Figure size 640x480 with 1 Axes>"
      ]
     },
     "metadata": {},
     "output_type": "display_data"
    }
   ],
   "source": [
    "for x in cat:\n",
    "    sns.countplot(x=x, data=df, palette='Pastel1')\n",
    "    plt.show()"
   ]
  },
  {
   "cell_type": "code",
   "execution_count": 29,
   "metadata": {},
   "outputs": [
    {
     "data": {
      "text/plain": [
       "<Figure size 640x480 with 0 Axes>"
      ]
     },
     "metadata": {},
     "output_type": "display_data"
    },
    {
     "data": {
      "image/png": "[encoded data removed]",
      "text/plain": [
       "<Figure size 500x500 with 1 Axes>"
      ]
     },
     "metadata": {},
     "output_type": "display_data"
    },
    {
     "data": {
      "text/plain": [
       "<Figure size 640x480 with 0 Axes>"
      ]
     },
     "metadata": {},
     "output_type": "display_data"
    },
    {
     "data": {
      "image/png": "[encoded data removed]",
      "text/plain": [
       "<Figure size 500x500 with 1 Axes>"
      ]
     },
     "metadata": {},
     "output_type": "display_data"
    },
    {
     "data": {
      "text/plain": [
       "<Figure size 640x480 with 0 Axes>"
      ]
     },
     "metadata": {},
     "output_type": "display_data"
    },
    {
     "data": {
      "image/png": "[encoded data removed]",
      "text/plain": [
       "<Figure size 500x500 with 1 Axes>"
      ]
     },
     "metadata": {},
     "output_type": "display_data"
    },
    {
     "data": {
      "text/plain": [
       "<Figure size 640x480 with 0 Axes>"
      ]
     },
     "metadata": {},
     "output_type": "display_data"
    },
    {
     "data": {
      "image/png": "[encoded data removed]",
      "text/plain": [
       "<Figure size 500x500 with 1 Axes>"
      ]
     },
     "metadata": {},
     "output_type": "display_data"
    },
    {
     "data": {
      "text/plain": [
       "<Figure size 640x480 with 0 Axes>"
      ]
     },
     "metadata": {},
     "output_type": "display_data"
    },
    {
     "data": {
      "image/png": "[encoded data removed]",
      "text/plain": [
       "<Figure size 500x500 with 1 Axes>"
      ]
     },
     "metadata": {},
     "output_type": "display_data"
    },
    {
     "data": {
      "text/plain": [
       "<Figure size 640x480 with 0 Axes>"
      ]
     },
     "metadata": {},
     "output_type": "display_data"
    },
    {
     "data": {
      "image/png": "[encoded data removed]",
      "text/plain": [
       "<Figure size 500x500 with 1 Axes>"
      ]
     },
     "metadata": {},
     "output_type": "display_data"
    }
   ],
   "source": [
    "plot_con(con,df,'blue')"
   ]
  },
  {
   "cell_type": "code",
   "execution_count": 30,
   "metadata": {},
   "outputs": [
    {
     "name": "stdout",
     "output_type": "stream",
     "text": [
      "gender\n",
      "0.0035758536136111666\n",
      "cholesterol\n",
      "0.22038053263776078\n",
      "gluc\n",
      "0.09070427577515001\n",
      "smoke\n",
      "0.018132149126758382\n",
      "alco\n",
      "0.008241590984399494\n",
      "active\n",
      "0.03524784012745756\n",
      "cardio\n",
      "0.9999706055898813\n",
      "age\n",
      "0.5980249526076797\n",
      "height\n",
      "0.5109406457111787\n",
      "weight\n",
      "0.5735719848932387\n",
      "ap_hi\n",
      "0.71389733868242\n",
      "ap_lo\n",
      "0.6622139928580876\n",
      "bmi\n",
      "0.5803465150112419\n"
     ]
    }
   ],
   "source": [
    "for i in cat:\n",
    "    print(i)\n",
    "    matrix = pd.crosstab(df[i], df['cardio']).to_numpy()\n",
    "    print(cramers_corrected_stat(matrix))\n",
    "\n",
    "\n",
    "#Finding correlation for con-to-con data\n",
    "for i in con:\n",
    "    print(i)\n",
    "    lr = LogisticRegression()\n",
    "    lr.fit(np.expand_dims(df[i], axis=1),df['cardio'])\n",
    "    print(lr.score(np.expand_dims(df[i], axis=1),df['cardio']))"
   ]
  },
  {
   "cell_type": "code",
   "execution_count": 31,
   "metadata": {},
   "outputs": [
    {
     "data": {
      "text/html": [
       "<div>\n",
       "<style scoped>\n",
       "    .dataframe tbody tr th:only-of-type {\n",
       "        vertical-align: middle;\n",
       "    }\n",
       "\n",
       "    .dataframe tbody tr th {\n",
       "        vertical-align: top;\n",
       "    }\n",
       "\n",
       "    .dataframe thead th {\n",
       "        text-align: right;\n",
       "    }\n",
       "</style>\n",
       "<table border=\"1\" class=\"dataframe\">\n",
       "  <thead>\n",
       "    <tr style=\"text-align: right;\">\n",
       "      <th></th>\n",
       "      <th>age</th>\n",
       "      <th>height</th>\n",
       "      <th>weight</th>\n",
       "      <th>ap_hi</th>\n",
       "      <th>ap_lo</th>\n",
       "      <th>bmi</th>\n",
       "      <th>cardio</th>\n",
       "    </tr>\n",
       "  </thead>\n",
       "  <tbody>\n",
       "    <tr>\n",
       "      <th>age</th>\n",
       "      <td>1.000000</td>\n",
       "      <td>-0.086368</td>\n",
       "      <td>0.066538</td>\n",
       "      <td>0.195978</td>\n",
       "      <td>0.106160</td>\n",
       "      <td>0.117731</td>\n",
       "      <td>0.241707</td>\n",
       "    </tr>\n",
       "    <tr>\n",
       "      <th>height</th>\n",
       "      <td>-0.086368</td>\n",
       "      <td>1.000000</td>\n",
       "      <td>0.315705</td>\n",
       "      <td>0.002953</td>\n",
       "      <td>0.012483</td>\n",
       "      <td>-0.243986</td>\n",
       "      <td>-0.020267</td>\n",
       "    </tr>\n",
       "    <tr>\n",
       "      <th>weight</th>\n",
       "      <td>0.066538</td>\n",
       "      <td>0.315705</td>\n",
       "      <td>1.000000</td>\n",
       "      <td>0.235617</td>\n",
       "      <td>0.173486</td>\n",
       "      <td>0.838926</td>\n",
       "      <td>0.176611</td>\n",
       "    </tr>\n",
       "    <tr>\n",
       "      <th>ap_hi</th>\n",
       "      <td>0.195978</td>\n",
       "      <td>0.002953</td>\n",
       "      <td>0.235617</td>\n",
       "      <td>1.000000</td>\n",
       "      <td>0.500293</td>\n",
       "      <td>0.238809</td>\n",
       "      <td>0.400229</td>\n",
       "    </tr>\n",
       "    <tr>\n",
       "      <th>ap_lo</th>\n",
       "      <td>0.106160</td>\n",
       "      <td>0.012483</td>\n",
       "      <td>0.173486</td>\n",
       "      <td>0.500293</td>\n",
       "      <td>1.000000</td>\n",
       "      <td>0.169744</td>\n",
       "      <td>0.254987</td>\n",
       "    </tr>\n",
       "    <tr>\n",
       "      <th>bmi</th>\n",
       "      <td>0.117731</td>\n",
       "      <td>-0.243986</td>\n",
       "      <td>0.838926</td>\n",
       "      <td>0.238809</td>\n",
       "      <td>0.169744</td>\n",
       "      <td>1.000000</td>\n",
       "      <td>0.191081</td>\n",
       "    </tr>\n",
       "    <tr>\n",
       "      <th>cardio</th>\n",
       "      <td>0.241707</td>\n",
       "      <td>-0.020267</td>\n",
       "      <td>0.176611</td>\n",
       "      <td>0.400229</td>\n",
       "      <td>0.254987</td>\n",
       "      <td>0.191081</td>\n",
       "      <td>1.000000</td>\n",
       "    </tr>\n",
       "  </tbody>\n",
       "</table>\n",
       "</div>"
      ],
      "text/plain": [
       "             age    height    weight     ap_hi     ap_lo       bmi    cardio\n",
       "age     1.000000 -0.086368  0.066538  0.195978  0.106160  0.117731  0.241707\n",
       "height -0.086368  1.000000  0.315705  0.002953  0.012483 -0.243986 -0.020267\n",
       "weight  0.066538  0.315705  1.000000  0.235617  0.173486  0.838926  0.176611\n",
       "ap_hi   0.195978  0.002953  0.235617  1.000000  0.500293  0.238809  0.400229\n",
       "ap_lo   0.106160  0.012483  0.173486  0.500293  1.000000  0.169744  0.254987\n",
       "bmi     0.117731 -0.243986  0.838926  0.238809  0.169744  1.000000  0.191081\n",
       "cardio  0.241707 -0.020267  0.176611  0.400229  0.254987  0.191081  1.000000"
      ]
     },
     "metadata": {},
     "output_type": "display_data"
    }
   ],
   "source": [
    "#Finding the correlation coefficient between con data to output\n",
    "df_con = df.loc[:,['age','height','weight','ap_hi','ap_lo','bmi','cardio']]\n",
    "corr = df_con.corr()\n",
    "display(corr)"
   ]
  },
  {
   "cell_type": "code",
   "execution_count": 32,
   "metadata": {},
   "outputs": [
    {
     "data": {
      "text/plain": [
       "<bound method Series.sort_values of age       0.241707\n",
       "height   -0.020267\n",
       "weight    0.176611\n",
       "ap_hi     0.400229\n",
       "ap_lo     0.254987\n",
       "bmi       0.191081\n",
       "cardio    1.000000\n",
       "Name: cardio, dtype: float64>"
      ]
     },
     "execution_count": 32,
     "metadata": {},
     "output_type": "execute_result"
    }
   ],
   "source": [
    "df_con.corr()['cardio'].sort_values"
   ]
  },
  {
   "cell_type": "code",
   "execution_count": 33,
   "metadata": {},
   "outputs": [
    {
     "data": {
      "image/png": "[encoded data removed]",
      "text/plain": [
       "<Figure size 800x800 with 2 Axes>"
      ]
     },
     "metadata": {},
     "output_type": "display_data"
    }
   ],
   "source": [
    "plt.figure(figsize=(8,8))\n",
    "sns.heatmap(corr, cmap='Reds', annot=True, square=True, fmt='.1f')\n",
    "plt.show()"
   ]
  },
  {
   "attachments": {},
   "cell_type": "markdown",
   "metadata": {},
   "source": [
    "## 3. Data Preprocessing"
   ]
  },
  {
   "cell_type": "code",
   "execution_count": 34,
   "metadata": {},
   "outputs": [],
   "source": [
    "X = df.drop(['cardio'],axis=1)\n",
    "y = df['cardio']"
   ]
  },
  {
   "cell_type": "code",
   "execution_count": 35,
   "metadata": {},
   "outputs": [],
   "source": [
    "X_train, X_test, y_train, y_test = train_test_split(X,y, test_size=0.3, random_state=42, stratify=y)"
   ]
  },
  {
   "attachments": {},
   "cell_type": "markdown",
   "metadata": {},
   "source": [
    "## 4. Model Development"
   ]
  },
  {
   "attachments": {},
   "cell_type": "markdown",
   "metadata": {},
   "source": [
    "### Pipelines\n",
    "\n",
    "Fitting in scalers and classification methods into pipelines.\n",
    "\n",
    "**Scalers**\n",
    "1. MinMaxScaler\n",
    "2. StandardScaler\n",
    "\n",
    "**Classification Method**\n",
    "1. Logistic Regression\n",
    "2. Gradient Booster Classifier\n",
    "3. SVC\n",
    "4. Random Forest Classifier\n",
    "5. Decision Tree Classifier\n",
    "6. K-Nearest Neighbor\n"
   ]
  },
  {
   "cell_type": "code",
   "execution_count": 36,
   "metadata": {},
   "outputs": [],
   "source": [
    "#logistic regression\n",
    "pipeline_mms_lr = Pipeline([\n",
    "                            ('min_max_scaler', MinMaxScaler()),\n",
    "                            ('logistic_regression', LogisticRegression())\n",
    "                            ])\n",
    "\n",
    "pipeline_ss_lr = Pipeline([\n",
    "                            ('standard_scaler', StandardScaler()),\n",
    "                            ('logistic_regression', LogisticRegression())\n",
    "                            ])\n",
    "\n",
    "#gradient booster\n",
    "pipeline_mms_gbs = Pipeline([\n",
    "                            ('min_max_scaler', MinMaxScaler()),\n",
    "                            ('gradient_boosting_classifier', GradientBoostingClassifier())\n",
    "                            ])\n",
    "\n",
    "pipeline_ss_gbs = Pipeline([\n",
    "                            ('standard_scaler', StandardScaler()),\n",
    "                            ('gradient_boosting_classifier', GradientBoostingClassifier())\n",
    "                            ])\n",
    "#SVC\n",
    "pipeline_mms_svc = Pipeline([\n",
    "                            ('min_max_scaler', MinMaxScaler()),\n",
    "                            ('svc', SVC())\n",
    "                            ])\n",
    "\n",
    "pipeline_ss_svc = Pipeline([\n",
    "                            ('standard_scaler', StandardScaler()),\n",
    "                            ('svc', SVC())\n",
    "                            ])     \n",
    "\n",
    "#random forest classifier\n",
    "pipeline_mms_rfc = Pipeline([\n",
    "                            ('min_max_scaler', MinMaxScaler()),\n",
    "                            ('random_forest_classifier', RandomForestClassifier())\n",
    "                            ])\n",
    "\n",
    "pipeline_ss_rfc = Pipeline([\n",
    "                            ('standard_scaler', StandardScaler()),\n",
    "                            ('random_forest_classifier', RandomForestClassifier())\n",
    "                            ])  \n",
    "\n",
    "#decision tree classifier\n",
    "pipeline_mms_dt = Pipeline([\n",
    "                            ('min_max_scaler', MinMaxScaler()),\n",
    "                            ('decision_tree_classifier', DecisionTreeClassifier())\n",
    "                            ])\n",
    "\n",
    "pipeline_ss_dt = Pipeline([\n",
    "                            ('standard_scaler', StandardScaler()),\n",
    "                            ('decision_tree_classifier', DecisionTreeClassifier())\n",
    "                            ]) \n",
    "\n",
    "#knn \n",
    "pipeline_mms_knn = Pipeline([\n",
    "                            ('standard_scaler', MinMaxScaler()),\n",
    "                            ('k_nearest_neighbor_classifier', KNeighborsClassifier())\n",
    "                            ]) \n",
    "\n",
    "pipeline_ss_knn = Pipeline([\n",
    "                            ('standard_scaler', StandardScaler()),\n",
    "                            ('k_nearest_neighbor_classifier', KNeighborsClassifier())\n",
    "                            ]) \n",
    "\n",
    "#Storing pipelines in a list\n",
    "pipelines = [pipeline_mms_lr, pipeline_ss_lr, \n",
    "            pipeline_mms_gbs, pipeline_ss_gbs, \n",
    "            pipeline_mms_svc, pipeline_ss_svc, \n",
    "            pipeline_mms_rfc, pipeline_ss_rfc,\n",
    "            pipeline_mms_dt, pipeline_ss_dt,\n",
    "            pipeline_mms_knn, pipeline_ss_knn]"
   ]
  },
  {
   "attachments": {},
   "cell_type": "markdown",
   "metadata": {},
   "source": [
    "### Finding the best pipeline with the highest accuracy score"
   ]
  },
  {
   "cell_type": "code",
   "execution_count": 37,
   "metadata": {},
   "outputs": [
    {
     "name": "stdout",
     "output_type": "stream",
     "text": [
      "The best model for cardiovascular disease prediction is MMS + Random Forest with the accuracy of 0.737790840068577\n"
     ]
    }
   ],
   "source": [
    "#fitting training data - model training\n",
    "for pipe in pipelines:\n",
    "    pipe.fit(X_train, y_train)\n",
    "\n",
    "pipe_dict = {}\n",
    "best_score = 0 \n",
    "\n",
    "model_name = ['MMS + Logistic Regression', 'SS + Logistic Regression',\n",
    "                'MMS + Random Forest', 'SS + Random Forest',\n",
    "                'MMS + SVC', 'SS + SVC',\n",
    "                'MMS + Gradient Boosting Classifier', 'SS + Gradient Boosting Classifier',\n",
    "                'MMS + Decision Tree Classifier', 'SS + Decision Tree Classifier',\n",
    "                'MMS + K Nearest Neighbor Classifier', 'SS + K Nearest Neighbor Classifier']\n",
    "\n",
    "#Model evaluation\n",
    "for i, model in enumerate(pipelines):\n",
    "    y_pred = model.predict(X_test) \n",
    "\n",
    "    pipe_dict[model_name[i]] = [accuracy_score(y_test, y_pred),\n",
    "                                f1_score(y_test, y_pred, average='weighted')]\n",
    "    \n",
    "    if model.score(X_test, y_test) > best_score:\n",
    "        best_score = model.score(X_test, y_test)\n",
    "        best_pipe = model_name[i]\n",
    "\n",
    "print('The best model for cardiovascular disease prediction is {} with the accuracy of {}'.format(best_pipe, best_score))"
   ]
  },
  {
   "attachments": {},
   "cell_type": "markdown",
   "metadata": {},
   "source": [
    "**Best Model: MMS + Random Forest Classifier**\n",
    "\n",
    "**Accuracy: 7.738**"
   ]
  },
  {
   "attachments": {},
   "cell_type": "markdown",
   "metadata": {},
   "source": [
    "## 5. Model Comparison Table"
   ]
  },
  {
   "cell_type": "code",
   "execution_count": 38,
   "metadata": {},
   "outputs": [
    {
     "data": {
      "text/html": [
       "<style type=\"text/css\">\n",
       "#T_cfa7e_row0_col0, #T_cfa7e_row0_col1, #T_cfa7e_row1_col0, #T_cfa7e_row1_col1 {\n",
       "  background-color: #4d004b;\n",
       "  color: #f1f1f1;\n",
       "}\n",
       "#T_cfa7e_row2_col0 {\n",
       "  background-color: #520150;\n",
       "  color: #f1f1f1;\n",
       "}\n",
       "#T_cfa7e_row2_col1 {\n",
       "  background-color: #540251;\n",
       "  color: #f1f1f1;\n",
       "}\n",
       "#T_cfa7e_row3_col0 {\n",
       "  background-color: #5d055a;\n",
       "  color: #f1f1f1;\n",
       "}\n",
       "#T_cfa7e_row3_col1 {\n",
       "  background-color: #5f055c;\n",
       "  color: #f1f1f1;\n",
       "}\n",
       "#T_cfa7e_row4_col0 {\n",
       "  background-color: #6c0968;\n",
       "  color: #f1f1f1;\n",
       "}\n",
       "#T_cfa7e_row4_col1, #T_cfa7e_row5_col0 {\n",
       "  background-color: #6e096a;\n",
       "  color: #f1f1f1;\n",
       "}\n",
       "#T_cfa7e_row5_col1 {\n",
       "  background-color: #6f0a6b;\n",
       "  color: #f1f1f1;\n",
       "}\n",
       "#T_cfa7e_row6_col0 {\n",
       "  background-color: #873696;\n",
       "  color: #f1f1f1;\n",
       "}\n",
       "#T_cfa7e_row6_col1 {\n",
       "  background-color: #863595;\n",
       "  color: #f1f1f1;\n",
       "}\n",
       "#T_cfa7e_row7_col0, #T_cfa7e_row7_col1 {\n",
       "  background-color: #873d9a;\n",
       "  color: #f1f1f1;\n",
       "}\n",
       "#T_cfa7e_row8_col0 {\n",
       "  background-color: #8c72b5;\n",
       "  color: #f1f1f1;\n",
       "}\n",
       "#T_cfa7e_row8_col1 {\n",
       "  background-color: #8c71b4;\n",
       "  color: #f1f1f1;\n",
       "}\n",
       "#T_cfa7e_row9_col0, #T_cfa7e_row9_col1 {\n",
       "  background-color: #8c94c5;\n",
       "  color: #f1f1f1;\n",
       "}\n",
       "#T_cfa7e_row10_col0, #T_cfa7e_row10_col1 {\n",
       "  background-color: #f4fafc;\n",
       "  color: #000000;\n",
       "}\n",
       "#T_cfa7e_row11_col0, #T_cfa7e_row11_col1 {\n",
       "  background-color: #f7fcfd;\n",
       "  color: #000000;\n",
       "}\n",
       "</style>\n",
       "<table id=\"T_cfa7e\">\n",
       "  <thead>\n",
       "    <tr>\n",
       "      <th class=\"blank level0\" >&nbsp;</th>\n",
       "      <th id=\"T_cfa7e_level0_col0\" class=\"col_heading level0 col0\" >Accuracy</th>\n",
       "      <th id=\"T_cfa7e_level0_col1\" class=\"col_heading level0 col1\" >F1 Score</th>\n",
       "    </tr>\n",
       "  </thead>\n",
       "  <tbody>\n",
       "    <tr>\n",
       "      <th id=\"T_cfa7e_level0_row0\" class=\"row_heading level0 row0\" >MMS + Random Forest</th>\n",
       "      <td id=\"T_cfa7e_row0_col0\" class=\"data row0 col0\" >0.737791</td>\n",
       "      <td id=\"T_cfa7e_row0_col1\" class=\"data row0 col1\" >0.737276</td>\n",
       "    </tr>\n",
       "    <tr>\n",
       "      <th id=\"T_cfa7e_level0_row1\" class=\"row_heading level0 row1\" >SS + Random Forest</th>\n",
       "      <td id=\"T_cfa7e_row1_col0\" class=\"data row1 col0\" >0.737791</td>\n",
       "      <td id=\"T_cfa7e_row1_col1\" class=\"data row1 col1\" >0.737276</td>\n",
       "    </tr>\n",
       "    <tr>\n",
       "      <th id=\"T_cfa7e_level0_row2\" class=\"row_heading level0 row2\" >SS + SVC</th>\n",
       "      <td id=\"T_cfa7e_row2_col0\" class=\"data row2 col0\" >0.736272</td>\n",
       "      <td id=\"T_cfa7e_row2_col1\" class=\"data row2 col1\" >0.735223</td>\n",
       "    </tr>\n",
       "    <tr>\n",
       "      <th id=\"T_cfa7e_level0_row3\" class=\"row_heading level0 row3\" >MMS + SVC</th>\n",
       "      <td id=\"T_cfa7e_row3_col0\" class=\"data row3 col0\" >0.733333</td>\n",
       "      <td id=\"T_cfa7e_row3_col1\" class=\"data row3 col1\" >0.732341</td>\n",
       "    </tr>\n",
       "    <tr>\n",
       "      <th id=\"T_cfa7e_level0_row4\" class=\"row_heading level0 row4\" >MMS + Logistic Regression</th>\n",
       "      <td id=\"T_cfa7e_row4_col0\" class=\"data row4 col0\" >0.729611</td>\n",
       "      <td id=\"T_cfa7e_row4_col1\" class=\"data row4 col1\" >0.728737</td>\n",
       "    </tr>\n",
       "    <tr>\n",
       "      <th id=\"T_cfa7e_level0_row5\" class=\"row_heading level0 row5\" >SS + Logistic Regression</th>\n",
       "      <td id=\"T_cfa7e_row5_col0\" class=\"data row5 col0\" >0.729219</td>\n",
       "      <td id=\"T_cfa7e_row5_col1\" class=\"data row5 col1\" >0.728300</td>\n",
       "    </tr>\n",
       "    <tr>\n",
       "      <th id=\"T_cfa7e_level0_row6\" class=\"row_heading level0 row6\" >SS + Gradient Boosting Classifier</th>\n",
       "      <td id=\"T_cfa7e_row6_col0\" class=\"data row6 col0\" >0.713495</td>\n",
       "      <td id=\"T_cfa7e_row6_col1\" class=\"data row6 col1\" >0.713429</td>\n",
       "    </tr>\n",
       "    <tr>\n",
       "      <th id=\"T_cfa7e_level0_row7\" class=\"row_heading level0 row7\" >MMS + Gradient Boosting Classifier</th>\n",
       "      <td id=\"T_cfa7e_row7_col0\" class=\"data row7 col0\" >0.711585</td>\n",
       "      <td id=\"T_cfa7e_row7_col1\" class=\"data row7 col1\" >0.711502</td>\n",
       "    </tr>\n",
       "    <tr>\n",
       "      <th id=\"T_cfa7e_level0_row8\" class=\"row_heading level0 row8\" >SS + K Nearest Neighbor Classifier</th>\n",
       "      <td id=\"T_cfa7e_row8_col0\" class=\"data row8 col0\" >0.694979</td>\n",
       "      <td id=\"T_cfa7e_row8_col1\" class=\"data row8 col1\" >0.694893</td>\n",
       "    </tr>\n",
       "    <tr>\n",
       "      <th id=\"T_cfa7e_level0_row9\" class=\"row_heading level0 row9\" >MMS + K Nearest Neighbor Classifier</th>\n",
       "      <td id=\"T_cfa7e_row9_col0\" class=\"data row9 col0\" >0.684056</td>\n",
       "      <td id=\"T_cfa7e_row9_col1\" class=\"data row9 col1\" >0.683944</td>\n",
       "    </tr>\n",
       "    <tr>\n",
       "      <th id=\"T_cfa7e_level0_row10\" class=\"row_heading level0 row10\" >MMS + Decision Tree Classifier</th>\n",
       "      <td id=\"T_cfa7e_row10_col0\" class=\"data row10 col0\" >0.631301</td>\n",
       "      <td id=\"T_cfa7e_row10_col1\" class=\"data row10 col1\" >0.631227</td>\n",
       "    </tr>\n",
       "    <tr>\n",
       "      <th id=\"T_cfa7e_level0_row11\" class=\"row_heading level0 row11\" >SS + Decision Tree Classifier</th>\n",
       "      <td id=\"T_cfa7e_row11_col0\" class=\"data row11 col0\" >0.629439</td>\n",
       "      <td id=\"T_cfa7e_row11_col1\" class=\"data row11 col1\" >0.629382</td>\n",
       "    </tr>\n",
       "  </tbody>\n",
       "</table>\n"
      ],
      "text/plain": [
       "<pandas.io.formats.style.Styler at 0x20f8232d700>"
      ]
     },
     "execution_count": 38,
     "metadata": {},
     "output_type": "execute_result"
    }
   ],
   "source": [
    "#Convert pipe_dict into a model comparison dataframe\n",
    "model_comparison_df = pd.DataFrame.from_dict(pipe_dict).T\n",
    "model_comparison_df.columns=['Accuracy','F1 Score']\n",
    "model_comparison_df = model_comparison_df.sort_values(by=['Accuracy'], ascending=False)\n",
    "model_comparison_df.style.background_gradient(cmap='BuPu')"
   ]
  },
  {
   "attachments": {},
   "cell_type": "markdown",
   "metadata": {},
   "source": [
    "## 6. Hyperparameter Tuning"
   ]
  },
  {
   "attachments": {},
   "cell_type": "markdown",
   "metadata": {},
   "source": [
    "### Grid Search"
   ]
  },
  {
   "cell_type": "code",
   "execution_count": 39,
   "metadata": {},
   "outputs": [
    {
     "data": {
      "text/plain": [
       "dict_keys(['memory', 'steps', 'verbose', 'min_max_scaler', 'random_forest_classifier', 'min_max_scaler__clip', 'min_max_scaler__copy', 'min_max_scaler__feature_range', 'random_forest_classifier__bootstrap', 'random_forest_classifier__ccp_alpha', 'random_forest_classifier__class_weight', 'random_forest_classifier__criterion', 'random_forest_classifier__max_depth', 'random_forest_classifier__max_features', 'random_forest_classifier__max_leaf_nodes', 'random_forest_classifier__max_samples', 'random_forest_classifier__min_impurity_decrease', 'random_forest_classifier__min_samples_leaf', 'random_forest_classifier__min_samples_split', 'random_forest_classifier__min_weight_fraction_leaf', 'random_forest_classifier__n_estimators', 'random_forest_classifier__n_jobs', 'random_forest_classifier__oob_score', 'random_forest_classifier__random_state', 'random_forest_classifier__verbose', 'random_forest_classifier__warm_start'])"
      ]
     },
     "execution_count": 39,
     "metadata": {},
     "output_type": "execute_result"
    }
   ],
   "source": [
    "pipeline_mms_rfc.get_params().keys()"
   ]
  },
  {
   "cell_type": "code",
   "execution_count": 47,
   "metadata": {},
   "outputs": [
    {
     "name": "stdout",
     "output_type": "stream",
     "text": [
      "Fitting 5 folds for each of 64 candidates, totalling 320 fits\n"
     ]
    }
   ],
   "source": [
    "grid_param = {'random_forest_classifier__n_estimators': [100,300],\n",
    "               'random_forest_classifier__max_features': ['auto','sqrt'],\n",
    "               'random_forest_classifier__max_depth': [2,4],\n",
    "               'random_forest_classifier__min_samples_split': [2,5],\n",
    "               'random_forest_classifier__min_samples_leaf': [1,2],\n",
    "               'random_forest_classifier__bootstrap': [True,False]}\n",
    "\n",
    "grid_search = GridSearchCV(pipeline_mms_rfc, grid_param,\n",
    "                            cv=5, verbose=1, n_jobs=-1)\n",
    "\n",
    "grid = grid_search.fit(X_train, y_train)"
   ]
  },
  {
   "cell_type": "code",
   "execution_count": 48,
   "metadata": {},
   "outputs": [
    {
     "name": "stdout",
     "output_type": "stream",
     "text": [
      "0.7306882194464854\n"
     ]
    }
   ],
   "source": [
    "print(grid_search.score(X_test, y_test))"
   ]
  },
  {
   "cell_type": "code",
   "execution_count": 49,
   "metadata": {},
   "outputs": [
    {
     "data": {
      "text/plain": [
       "{'random_forest_classifier__bootstrap': True,\n",
       " 'random_forest_classifier__max_depth': 4,\n",
       " 'random_forest_classifier__max_features': 'sqrt',\n",
       " 'random_forest_classifier__min_samples_leaf': 2,\n",
       " 'random_forest_classifier__min_samples_split': 2,\n",
       " 'random_forest_classifier__n_estimators': 300}"
      ]
     },
     "metadata": {},
     "output_type": "display_data"
    }
   ],
   "source": [
    "display(grid.best_params_)"
   ]
  },
  {
   "attachments": {},
   "cell_type": "markdown",
   "metadata": {},
   "source": [
    "### Random Search"
   ]
  },
  {
   "cell_type": "code",
   "execution_count": 44,
   "metadata": {},
   "outputs": [
    {
     "name": "stdout",
     "output_type": "stream",
     "text": [
      "Fitting 5 folds for each of 10 candidates, totalling 50 fits\n"
     ]
    },
    {
     "name": "stderr",
     "output_type": "stream",
     "text": [
      "c:\\Users\\tasha\\anaconda3\\envs\\ml_env\\lib\\site-packages\\sklearn\\ensemble\\_forest.py:425: FutureWarning: `max_features='auto'` has been deprecated in 1.1 and will be removed in 1.3. To keep the past behaviour, explicitly set `max_features='sqrt'` or remove this parameter as it is also the default value for RandomForestClassifiers and ExtraTreesClassifiers.\n",
      "  warn(\n"
     ]
    }
   ],
   "source": [
    "rand_param = {'random_forest_classifier__n_estimators': [100,300],\n",
    "               'random_forest_classifier__max_features': ['auto','sqrt'],\n",
    "               'random_forest_classifier__max_depth': [2,4],\n",
    "               'random_forest_classifier__min_samples_split': [2,5],\n",
    "               'random_forest_classifier__min_samples_leaf': [1,2],\n",
    "               'random_forest_classifier__bootstrap': [True,False]}\n",
    "\n",
    "rand_search = RandomizedSearchCV(pipeline_mms_rfc, rand_param,\n",
    "                                    cv=5, verbose=1, n_jobs=-1)\n",
    "\n",
    "rand = rand_search.fit(X_train, y_train)"
   ]
  },
  {
   "cell_type": "code",
   "execution_count": 45,
   "metadata": {},
   "outputs": [
    {
     "name": "stdout",
     "output_type": "stream",
     "text": [
      "0.7311290717609601\n"
     ]
    }
   ],
   "source": [
    "print(rand_search.score(X_test, y_test))"
   ]
  },
  {
   "cell_type": "code",
   "execution_count": 46,
   "metadata": {},
   "outputs": [
    {
     "data": {
      "text/plain": [
       "{'random_forest_classifier__n_estimators': 100,\n",
       " 'random_forest_classifier__min_samples_split': 5,\n",
       " 'random_forest_classifier__min_samples_leaf': 2,\n",
       " 'random_forest_classifier__max_features': 'auto',\n",
       " 'random_forest_classifier__max_depth': 4,\n",
       " 'random_forest_classifier__bootstrap': False}"
      ]
     },
     "metadata": {},
     "output_type": "display_data"
    }
   ],
   "source": [
    "display(rand.best_params_)"
   ]
  },
  {
   "attachments": {},
   "cell_type": "markdown",
   "metadata": {},
   "source": [
    "Summary: From the grid search and random search, the hyperparameters acquired by the random search has a slightly higher accuracy score"
   ]
  },
  {
   "attachments": {},
   "cell_type": "markdown",
   "metadata": {},
   "source": [
    "## 7. Model Evaluation"
   ]
  },
  {
   "cell_type": "code",
   "execution_count": 50,
   "metadata": {},
   "outputs": [],
   "source": [
    "y_pred = rand.predict(X_test)\n",
    "\n",
    "labels = ['No Cardiovascular Disease', 'Has Cardiovascular Disease']\n",
    "cm = confusion_matrix(y_test, y_pred)\n",
    "cr = classification_report(y_test, y_pred, target_names=labels)"
   ]
  },
  {
   "cell_type": "code",
   "execution_count": 51,
   "metadata": {},
   "outputs": [
    {
     "name": "stdout",
     "output_type": "stream",
     "text": [
      "                            precision    recall  f1-score   support\n",
      "\n",
      " No Cardiovascular Disease       0.70      0.81      0.75     10317\n",
      "Has Cardiovascular Disease       0.77      0.65      0.71     10098\n",
      "\n",
      "                  accuracy                           0.73     20415\n",
      "                 macro avg       0.74      0.73      0.73     20415\n",
      "              weighted avg       0.74      0.73      0.73     20415\n",
      "\n"
     ]
    }
   ],
   "source": [
    "print(cr)"
   ]
  },
  {
   "attachments": {},
   "cell_type": "markdown",
   "metadata": {},
   "source": [
    "From the classification report, we can see that the **validation accuracy** is **73%**"
   ]
  },
  {
   "cell_type": "code",
   "execution_count": 98,
   "metadata": {},
   "outputs": [
    {
     "data": {
      "image/png": "[encoded data removed]",
      "text/plain": [
       "<Figure size 1000x600 with 2 Axes>"
      ]
     },
     "metadata": {},
     "output_type": "display_data"
    }
   ],
   "source": [
    "disp = ConfusionMatrixDisplay(confusion_matrix=cm, display_labels=labels)\n",
    "disp.plot(cmap='RdPu')\n",
    "plt.rcParams['figure.figsize'] = [10,6]\n",
    "plt.show()\n"
   ]
  },
  {
   "attachments": {},
   "cell_type": "markdown",
   "metadata": {},
   "source": [
    "## 8. Save Model"
   ]
  },
  {
   "cell_type": "code",
   "execution_count": 102,
   "metadata": {},
   "outputs": [],
   "source": [
    "MODEL_PATH = os.path.join(os.getcwd(),'cardio_model','cardio_model.pkl')\n",
    "with open(MODEL_PATH,'wb') as file:\n",
    "    pickle.dump(rand.best_estimator_,file)"
   ]
  },
  {
   "attachments": {},
   "cell_type": "markdown",
   "metadata": {},
   "source": [
    "## 9. Test Case"
   ]
  },
  {
   "attachments": {},
   "cell_type": "markdown",
   "metadata": {},
   "source": [
    "### 9.1 Load test data"
   ]
  },
  {
   "cell_type": "code",
   "execution_count": 69,
   "metadata": {},
   "outputs": [
    {
     "data": {
      "text/html": [
       "<div>\n",
       "<style scoped>\n",
       "    .dataframe tbody tr th:only-of-type {\n",
       "        vertical-align: middle;\n",
       "    }\n",
       "\n",
       "    .dataframe tbody tr th {\n",
       "        vertical-align: top;\n",
       "    }\n",
       "\n",
       "    .dataframe thead th {\n",
       "        text-align: right;\n",
       "    }\n",
       "</style>\n",
       "<table border=\"1\" class=\"dataframe\">\n",
       "  <thead>\n",
       "    <tr style=\"text-align: right;\">\n",
       "      <th></th>\n",
       "      <th>id</th>\n",
       "      <th>age</th>\n",
       "      <th>gender</th>\n",
       "      <th>height</th>\n",
       "      <th>weight</th>\n",
       "      <th>ap_hi</th>\n",
       "      <th>ap_lo</th>\n",
       "      <th>cholesterol</th>\n",
       "      <th>gluc</th>\n",
       "      <th>smoke</th>\n",
       "      <th>alco</th>\n",
       "      <th>active</th>\n",
       "      <th>cardio</th>\n",
       "    </tr>\n",
       "  </thead>\n",
       "  <tbody>\n",
       "    <tr>\n",
       "      <th>0</th>\n",
       "      <td>1</td>\n",
       "      <td>14791</td>\n",
       "      <td>2</td>\n",
       "      <td>165</td>\n",
       "      <td>60.0</td>\n",
       "      <td>120</td>\n",
       "      <td>80</td>\n",
       "      <td>1</td>\n",
       "      <td>1</td>\n",
       "      <td>0</td>\n",
       "      <td>0</td>\n",
       "      <td>0</td>\n",
       "      <td>0</td>\n",
       "    </tr>\n",
       "    <tr>\n",
       "      <th>1</th>\n",
       "      <td>2</td>\n",
       "      <td>11817</td>\n",
       "      <td>1</td>\n",
       "      <td>159</td>\n",
       "      <td>77.0</td>\n",
       "      <td>111</td>\n",
       "      <td>68</td>\n",
       "      <td>1</td>\n",
       "      <td>1</td>\n",
       "      <td>0</td>\n",
       "      <td>0</td>\n",
       "      <td>1</td>\n",
       "      <td>0</td>\n",
       "    </tr>\n",
       "    <tr>\n",
       "      <th>2</th>\n",
       "      <td>3</td>\n",
       "      <td>14531</td>\n",
       "      <td>2</td>\n",
       "      <td>181</td>\n",
       "      <td>95.0</td>\n",
       "      <td>129</td>\n",
       "      <td>90</td>\n",
       "      <td>1</td>\n",
       "      <td>1</td>\n",
       "      <td>1</td>\n",
       "      <td>1</td>\n",
       "      <td>1</td>\n",
       "      <td>0</td>\n",
       "    </tr>\n",
       "    <tr>\n",
       "      <th>3</th>\n",
       "      <td>4</td>\n",
       "      <td>16782</td>\n",
       "      <td>2</td>\n",
       "      <td>172</td>\n",
       "      <td>112.0</td>\n",
       "      <td>120</td>\n",
       "      <td>80</td>\n",
       "      <td>1</td>\n",
       "      <td>1</td>\n",
       "      <td>0</td>\n",
       "      <td>0</td>\n",
       "      <td>0</td>\n",
       "      <td>1</td>\n",
       "    </tr>\n",
       "    <tr>\n",
       "      <th>4</th>\n",
       "      <td>5</td>\n",
       "      <td>21197</td>\n",
       "      <td>2</td>\n",
       "      <td>167</td>\n",
       "      <td>92.0</td>\n",
       "      <td>140</td>\n",
       "      <td>80</td>\n",
       "      <td>1</td>\n",
       "      <td>1</td>\n",
       "      <td>0</td>\n",
       "      <td>0</td>\n",
       "      <td>1</td>\n",
       "      <td>1</td>\n",
       "    </tr>\n",
       "  </tbody>\n",
       "</table>\n",
       "</div>"
      ],
      "text/plain": [
       "   id    age  gender  height  weight  ap_hi  ap_lo  cholesterol  gluc  smoke  \\\n",
       "0   1  14791       2     165    60.0    120     80            1     1      0   \n",
       "1   2  11817       1     159    77.0    111     68            1     1      0   \n",
       "2   3  14531       2     181    95.0    129     90            1     1      1   \n",
       "3   4  16782       2     172   112.0    120     80            1     1      0   \n",
       "4   5  21197       2     167    92.0    140     80            1     1      0   \n",
       "\n",
       "   alco  active  cardio  \n",
       "0     0       0       0  \n",
       "1     0       1       0  \n",
       "2     1       1       0  \n",
       "3     0       0       1  \n",
       "4     0       1       1  "
      ]
     },
     "execution_count": 69,
     "metadata": {},
     "output_type": "execute_result"
    }
   ],
   "source": [
    "df2 = pd.read_csv('test_set.csv', sep=';')\n",
    "df2.head()"
   ]
  },
  {
   "attachments": {},
   "cell_type": "markdown",
   "metadata": {},
   "source": [
    "### 9.2 Data cleaning & EDA"
   ]
  },
  {
   "cell_type": "code",
   "execution_count": 71,
   "metadata": {},
   "outputs": [
    {
     "data": {
      "text/html": [
       "<div>\n",
       "<style scoped>\n",
       "    .dataframe tbody tr th:only-of-type {\n",
       "        vertical-align: middle;\n",
       "    }\n",
       "\n",
       "    .dataframe tbody tr th {\n",
       "        vertical-align: top;\n",
       "    }\n",
       "\n",
       "    .dataframe thead th {\n",
       "        text-align: right;\n",
       "    }\n",
       "</style>\n",
       "<table border=\"1\" class=\"dataframe\">\n",
       "  <thead>\n",
       "    <tr style=\"text-align: right;\">\n",
       "      <th></th>\n",
       "      <th>age</th>\n",
       "      <th>gender</th>\n",
       "      <th>height</th>\n",
       "      <th>weight</th>\n",
       "      <th>ap_hi</th>\n",
       "      <th>ap_lo</th>\n",
       "      <th>cholesterol</th>\n",
       "      <th>gluc</th>\n",
       "      <th>smoke</th>\n",
       "      <th>alco</th>\n",
       "      <th>active</th>\n",
       "      <th>cardio</th>\n",
       "    </tr>\n",
       "  </thead>\n",
       "  <tbody>\n",
       "    <tr>\n",
       "      <th>0</th>\n",
       "      <td>40</td>\n",
       "      <td>2</td>\n",
       "      <td>165</td>\n",
       "      <td>60</td>\n",
       "      <td>120</td>\n",
       "      <td>80</td>\n",
       "      <td>1</td>\n",
       "      <td>1</td>\n",
       "      <td>0</td>\n",
       "      <td>0</td>\n",
       "      <td>0</td>\n",
       "      <td>0</td>\n",
       "    </tr>\n",
       "    <tr>\n",
       "      <th>1</th>\n",
       "      <td>32</td>\n",
       "      <td>1</td>\n",
       "      <td>159</td>\n",
       "      <td>77</td>\n",
       "      <td>111</td>\n",
       "      <td>68</td>\n",
       "      <td>1</td>\n",
       "      <td>1</td>\n",
       "      <td>0</td>\n",
       "      <td>0</td>\n",
       "      <td>1</td>\n",
       "      <td>0</td>\n",
       "    </tr>\n",
       "    <tr>\n",
       "      <th>2</th>\n",
       "      <td>39</td>\n",
       "      <td>2</td>\n",
       "      <td>181</td>\n",
       "      <td>95</td>\n",
       "      <td>129</td>\n",
       "      <td>90</td>\n",
       "      <td>1</td>\n",
       "      <td>1</td>\n",
       "      <td>1</td>\n",
       "      <td>1</td>\n",
       "      <td>1</td>\n",
       "      <td>0</td>\n",
       "    </tr>\n",
       "    <tr>\n",
       "      <th>3</th>\n",
       "      <td>45</td>\n",
       "      <td>2</td>\n",
       "      <td>172</td>\n",
       "      <td>112</td>\n",
       "      <td>120</td>\n",
       "      <td>80</td>\n",
       "      <td>1</td>\n",
       "      <td>1</td>\n",
       "      <td>0</td>\n",
       "      <td>0</td>\n",
       "      <td>0</td>\n",
       "      <td>1</td>\n",
       "    </tr>\n",
       "    <tr>\n",
       "      <th>4</th>\n",
       "      <td>58</td>\n",
       "      <td>2</td>\n",
       "      <td>167</td>\n",
       "      <td>92</td>\n",
       "      <td>140</td>\n",
       "      <td>80</td>\n",
       "      <td>1</td>\n",
       "      <td>1</td>\n",
       "      <td>0</td>\n",
       "      <td>0</td>\n",
       "      <td>1</td>\n",
       "      <td>1</td>\n",
       "    </tr>\n",
       "  </tbody>\n",
       "</table>\n",
       "</div>"
      ],
      "text/plain": [
       "   age  gender  height  weight  ap_hi  ap_lo  cholesterol  gluc  smoke  alco  \\\n",
       "0   40       2     165      60    120     80            1     1      0     0   \n",
       "1   32       1     159      77    111     68            1     1      0     0   \n",
       "2   39       2     181      95    129     90            1     1      1     1   \n",
       "3   45       2     172     112    120     80            1     1      0     0   \n",
       "4   58       2     167      92    140     80            1     1      0     0   \n",
       "\n",
       "   active  cardio  \n",
       "0       0       0  \n",
       "1       1       0  \n",
       "2       1       0  \n",
       "3       0       1  \n",
       "4       1       1  "
      ]
     },
     "execution_count": 71,
     "metadata": {},
     "output_type": "execute_result"
    }
   ],
   "source": [
    "df2['age'] = df2['age'] // 365\n",
    "df2 = df2.drop('id', axis=1)\n",
    "df2 = df2.astype({'weight':'int'})\n",
    "df2.head()"
   ]
  },
  {
   "cell_type": "code",
   "execution_count": 72,
   "metadata": {},
   "outputs": [
    {
     "data": {
      "text/html": [
       "<div>\n",
       "<style scoped>\n",
       "    .dataframe tbody tr th:only-of-type {\n",
       "        vertical-align: middle;\n",
       "    }\n",
       "\n",
       "    .dataframe tbody tr th {\n",
       "        vertical-align: top;\n",
       "    }\n",
       "\n",
       "    .dataframe thead th {\n",
       "        text-align: right;\n",
       "    }\n",
       "</style>\n",
       "<table border=\"1\" class=\"dataframe\">\n",
       "  <thead>\n",
       "    <tr style=\"text-align: right;\">\n",
       "      <th></th>\n",
       "      <th>age</th>\n",
       "      <th>gender</th>\n",
       "      <th>height</th>\n",
       "      <th>weight</th>\n",
       "      <th>ap_hi</th>\n",
       "      <th>ap_lo</th>\n",
       "      <th>cholesterol</th>\n",
       "      <th>gluc</th>\n",
       "      <th>smoke</th>\n",
       "      <th>alco</th>\n",
       "      <th>active</th>\n",
       "      <th>cardio</th>\n",
       "      <th>bmi</th>\n",
       "    </tr>\n",
       "  </thead>\n",
       "  <tbody>\n",
       "    <tr>\n",
       "      <th>0</th>\n",
       "      <td>50</td>\n",
       "      <td>2</td>\n",
       "      <td>168</td>\n",
       "      <td>62</td>\n",
       "      <td>110</td>\n",
       "      <td>80</td>\n",
       "      <td>1</td>\n",
       "      <td>1</td>\n",
       "      <td>0</td>\n",
       "      <td>0</td>\n",
       "      <td>1</td>\n",
       "      <td>0</td>\n",
       "      <td>21.967120</td>\n",
       "    </tr>\n",
       "    <tr>\n",
       "      <th>1</th>\n",
       "      <td>55</td>\n",
       "      <td>1</td>\n",
       "      <td>156</td>\n",
       "      <td>85</td>\n",
       "      <td>140</td>\n",
       "      <td>90</td>\n",
       "      <td>3</td>\n",
       "      <td>1</td>\n",
       "      <td>0</td>\n",
       "      <td>0</td>\n",
       "      <td>1</td>\n",
       "      <td>1</td>\n",
       "      <td>34.927679</td>\n",
       "    </tr>\n",
       "    <tr>\n",
       "      <th>2</th>\n",
       "      <td>51</td>\n",
       "      <td>1</td>\n",
       "      <td>165</td>\n",
       "      <td>64</td>\n",
       "      <td>130</td>\n",
       "      <td>70</td>\n",
       "      <td>3</td>\n",
       "      <td>1</td>\n",
       "      <td>0</td>\n",
       "      <td>0</td>\n",
       "      <td>0</td>\n",
       "      <td>1</td>\n",
       "      <td>23.507805</td>\n",
       "    </tr>\n",
       "    <tr>\n",
       "      <th>3</th>\n",
       "      <td>48</td>\n",
       "      <td>2</td>\n",
       "      <td>169</td>\n",
       "      <td>82</td>\n",
       "      <td>150</td>\n",
       "      <td>100</td>\n",
       "      <td>1</td>\n",
       "      <td>1</td>\n",
       "      <td>0</td>\n",
       "      <td>0</td>\n",
       "      <td>1</td>\n",
       "      <td>1</td>\n",
       "      <td>28.710479</td>\n",
       "    </tr>\n",
       "    <tr>\n",
       "      <th>4</th>\n",
       "      <td>47</td>\n",
       "      <td>1</td>\n",
       "      <td>156</td>\n",
       "      <td>56</td>\n",
       "      <td>100</td>\n",
       "      <td>60</td>\n",
       "      <td>1</td>\n",
       "      <td>1</td>\n",
       "      <td>0</td>\n",
       "      <td>0</td>\n",
       "      <td>0</td>\n",
       "      <td>0</td>\n",
       "      <td>23.011177</td>\n",
       "    </tr>\n",
       "  </tbody>\n",
       "</table>\n",
       "</div>"
      ],
      "text/plain": [
       "   age  gender  height  weight  ap_hi  ap_lo  cholesterol  gluc  smoke  alco  \\\n",
       "0   50       2     168      62    110     80            1     1      0     0   \n",
       "1   55       1     156      85    140     90            3     1      0     0   \n",
       "2   51       1     165      64    130     70            3     1      0     0   \n",
       "3   48       2     169      82    150    100            1     1      0     0   \n",
       "4   47       1     156      56    100     60            1     1      0     0   \n",
       "\n",
       "   active  cardio        bmi  \n",
       "0       1       0  21.967120  \n",
       "1       1       1  34.927679  \n",
       "2       0       1  23.507805  \n",
       "3       1       1  28.710479  \n",
       "4       0       0  23.011177  "
      ]
     },
     "execution_count": 72,
     "metadata": {},
     "output_type": "execute_result"
    }
   ],
   "source": [
    "df2['bmi'] =  df2['weight'] / (df['height']/100)**2\n",
    "df.head()"
   ]
  },
  {
   "cell_type": "code",
   "execution_count": 97,
   "metadata": {},
   "outputs": [
    {
     "data": {
      "text/html": [
       "<div>\n",
       "<style scoped>\n",
       "    .dataframe tbody tr th:only-of-type {\n",
       "        vertical-align: middle;\n",
       "    }\n",
       "\n",
       "    .dataframe tbody tr th {\n",
       "        vertical-align: top;\n",
       "    }\n",
       "\n",
       "    .dataframe thead th {\n",
       "        text-align: right;\n",
       "    }\n",
       "</style>\n",
       "<table border=\"1\" class=\"dataframe\">\n",
       "  <thead>\n",
       "    <tr style=\"text-align: right;\">\n",
       "      <th></th>\n",
       "      <th>count</th>\n",
       "      <th>mean</th>\n",
       "      <th>std</th>\n",
       "      <th>min</th>\n",
       "      <th>25%</th>\n",
       "      <th>50%</th>\n",
       "      <th>75%</th>\n",
       "      <th>max</th>\n",
       "    </tr>\n",
       "  </thead>\n",
       "  <tbody>\n",
       "    <tr>\n",
       "      <th>age</th>\n",
       "      <td>5.0</td>\n",
       "      <td>42.800000</td>\n",
       "      <td>9.679876</td>\n",
       "      <td>32.000000</td>\n",
       "      <td>39.000000</td>\n",
       "      <td>40.000000</td>\n",
       "      <td>45.000000</td>\n",
       "      <td>58.000000</td>\n",
       "    </tr>\n",
       "    <tr>\n",
       "      <th>gender</th>\n",
       "      <td>5.0</td>\n",
       "      <td>1.800000</td>\n",
       "      <td>0.447214</td>\n",
       "      <td>1.000000</td>\n",
       "      <td>2.000000</td>\n",
       "      <td>2.000000</td>\n",
       "      <td>2.000000</td>\n",
       "      <td>2.000000</td>\n",
       "    </tr>\n",
       "    <tr>\n",
       "      <th>height</th>\n",
       "      <td>5.0</td>\n",
       "      <td>168.800000</td>\n",
       "      <td>8.258329</td>\n",
       "      <td>159.000000</td>\n",
       "      <td>165.000000</td>\n",
       "      <td>167.000000</td>\n",
       "      <td>172.000000</td>\n",
       "      <td>181.000000</td>\n",
       "    </tr>\n",
       "    <tr>\n",
       "      <th>weight</th>\n",
       "      <td>5.0</td>\n",
       "      <td>87.200000</td>\n",
       "      <td>19.639246</td>\n",
       "      <td>60.000000</td>\n",
       "      <td>77.000000</td>\n",
       "      <td>92.000000</td>\n",
       "      <td>95.000000</td>\n",
       "      <td>112.000000</td>\n",
       "    </tr>\n",
       "    <tr>\n",
       "      <th>ap_hi</th>\n",
       "      <td>5.0</td>\n",
       "      <td>124.000000</td>\n",
       "      <td>10.977249</td>\n",
       "      <td>111.000000</td>\n",
       "      <td>120.000000</td>\n",
       "      <td>120.000000</td>\n",
       "      <td>129.000000</td>\n",
       "      <td>140.000000</td>\n",
       "    </tr>\n",
       "    <tr>\n",
       "      <th>ap_lo</th>\n",
       "      <td>5.0</td>\n",
       "      <td>79.600000</td>\n",
       "      <td>7.797435</td>\n",
       "      <td>68.000000</td>\n",
       "      <td>80.000000</td>\n",
       "      <td>80.000000</td>\n",
       "      <td>80.000000</td>\n",
       "      <td>90.000000</td>\n",
       "    </tr>\n",
       "    <tr>\n",
       "      <th>cholesterol</th>\n",
       "      <td>5.0</td>\n",
       "      <td>1.000000</td>\n",
       "      <td>0.000000</td>\n",
       "      <td>1.000000</td>\n",
       "      <td>1.000000</td>\n",
       "      <td>1.000000</td>\n",
       "      <td>1.000000</td>\n",
       "      <td>1.000000</td>\n",
       "    </tr>\n",
       "    <tr>\n",
       "      <th>gluc</th>\n",
       "      <td>5.0</td>\n",
       "      <td>1.000000</td>\n",
       "      <td>0.000000</td>\n",
       "      <td>1.000000</td>\n",
       "      <td>1.000000</td>\n",
       "      <td>1.000000</td>\n",
       "      <td>1.000000</td>\n",
       "      <td>1.000000</td>\n",
       "    </tr>\n",
       "    <tr>\n",
       "      <th>smoke</th>\n",
       "      <td>5.0</td>\n",
       "      <td>0.200000</td>\n",
       "      <td>0.447214</td>\n",
       "      <td>0.000000</td>\n",
       "      <td>0.000000</td>\n",
       "      <td>0.000000</td>\n",
       "      <td>0.000000</td>\n",
       "      <td>1.000000</td>\n",
       "    </tr>\n",
       "    <tr>\n",
       "      <th>alco</th>\n",
       "      <td>5.0</td>\n",
       "      <td>0.200000</td>\n",
       "      <td>0.447214</td>\n",
       "      <td>0.000000</td>\n",
       "      <td>0.000000</td>\n",
       "      <td>0.000000</td>\n",
       "      <td>0.000000</td>\n",
       "      <td>1.000000</td>\n",
       "    </tr>\n",
       "    <tr>\n",
       "      <th>active</th>\n",
       "      <td>5.0</td>\n",
       "      <td>0.600000</td>\n",
       "      <td>0.547723</td>\n",
       "      <td>0.000000</td>\n",
       "      <td>0.000000</td>\n",
       "      <td>1.000000</td>\n",
       "      <td>1.000000</td>\n",
       "      <td>1.000000</td>\n",
       "    </tr>\n",
       "    <tr>\n",
       "      <th>cardio</th>\n",
       "      <td>5.0</td>\n",
       "      <td>0.400000</td>\n",
       "      <td>0.547723</td>\n",
       "      <td>0.000000</td>\n",
       "      <td>0.000000</td>\n",
       "      <td>0.000000</td>\n",
       "      <td>1.000000</td>\n",
       "      <td>1.000000</td>\n",
       "    </tr>\n",
       "    <tr>\n",
       "      <th>bmi</th>\n",
       "      <td>5.0</td>\n",
       "      <td>32.962332</td>\n",
       "      <td>7.158733</td>\n",
       "      <td>21.258503</td>\n",
       "      <td>31.640368</td>\n",
       "      <td>34.894399</td>\n",
       "      <td>37.804076</td>\n",
       "      <td>39.214313</td>\n",
       "    </tr>\n",
       "  </tbody>\n",
       "</table>\n",
       "</div>"
      ],
      "text/plain": [
       "             count        mean        std         min         25%         50%  \\\n",
       "age            5.0   42.800000   9.679876   32.000000   39.000000   40.000000   \n",
       "gender         5.0    1.800000   0.447214    1.000000    2.000000    2.000000   \n",
       "height         5.0  168.800000   8.258329  159.000000  165.000000  167.000000   \n",
       "weight         5.0   87.200000  19.639246   60.000000   77.000000   92.000000   \n",
       "ap_hi          5.0  124.000000  10.977249  111.000000  120.000000  120.000000   \n",
       "ap_lo          5.0   79.600000   7.797435   68.000000   80.000000   80.000000   \n",
       "cholesterol    5.0    1.000000   0.000000    1.000000    1.000000    1.000000   \n",
       "gluc           5.0    1.000000   0.000000    1.000000    1.000000    1.000000   \n",
       "smoke          5.0    0.200000   0.447214    0.000000    0.000000    0.000000   \n",
       "alco           5.0    0.200000   0.447214    0.000000    0.000000    0.000000   \n",
       "active         5.0    0.600000   0.547723    0.000000    0.000000    1.000000   \n",
       "cardio         5.0    0.400000   0.547723    0.000000    0.000000    0.000000   \n",
       "bmi            5.0   32.962332   7.158733   21.258503   31.640368   34.894399   \n",
       "\n",
       "                    75%         max  \n",
       "age           45.000000   58.000000  \n",
       "gender         2.000000    2.000000  \n",
       "height       172.000000  181.000000  \n",
       "weight        95.000000  112.000000  \n",
       "ap_hi        129.000000  140.000000  \n",
       "ap_lo         80.000000   90.000000  \n",
       "cholesterol    1.000000    1.000000  \n",
       "gluc           1.000000    1.000000  \n",
       "smoke          0.000000    1.000000  \n",
       "alco           0.000000    1.000000  \n",
       "active         1.000000    1.000000  \n",
       "cardio         1.000000    1.000000  \n",
       "bmi           37.804076   39.214313  "
      ]
     },
     "execution_count": 97,
     "metadata": {},
     "output_type": "execute_result"
    }
   ],
   "source": [
    "df2.describe().T"
   ]
  },
  {
   "cell_type": "code",
   "execution_count": 73,
   "metadata": {},
   "outputs": [
    {
     "data": {
      "text/plain": [
       "age            0\n",
       "gender         0\n",
       "height         0\n",
       "weight         0\n",
       "ap_hi          0\n",
       "ap_lo          0\n",
       "cholesterol    0\n",
       "gluc           0\n",
       "smoke          0\n",
       "alco           0\n",
       "active         0\n",
       "cardio         0\n",
       "bmi            0\n",
       "dtype: int64"
      ]
     },
     "execution_count": 73,
     "metadata": {},
     "output_type": "execute_result"
    }
   ],
   "source": [
    "df2.isna().sum()"
   ]
  },
  {
   "cell_type": "code",
   "execution_count": 74,
   "metadata": {},
   "outputs": [
    {
     "data": {
      "text/plain": [
       "0"
      ]
     },
     "execution_count": 74,
     "metadata": {},
     "output_type": "execute_result"
    }
   ],
   "source": [
    "df2.duplicated().sum()"
   ]
  },
  {
   "cell_type": "code",
   "execution_count": 83,
   "metadata": {},
   "outputs": [
    {
     "data": {
      "text/plain": [
       "age            0\n",
       "gender         0\n",
       "height         0\n",
       "weight         0\n",
       "ap_hi          0\n",
       "ap_lo          0\n",
       "cholesterol    0\n",
       "gluc           0\n",
       "smoke          0\n",
       "alco           0\n",
       "active         0\n",
       "cardio         0\n",
       "bmi            0\n",
       "dtype: int64"
      ]
     },
     "execution_count": 83,
     "metadata": {},
     "output_type": "execute_result"
    }
   ],
   "source": [
    "df2.isnull().sum()"
   ]
  },
  {
   "cell_type": "code",
   "execution_count": 99,
   "metadata": {},
   "outputs": [
    {
     "data": {
      "image/png": "[encoded data removed]",
      "text/plain": [
       "<Figure size 1000x600 with 1 Axes>"
      ]
     },
     "metadata": {},
     "output_type": "display_data"
    }
   ],
   "source": [
    "df2.boxplot(figsize=(10,6))\n",
    "plt.show()"
   ]
  },
  {
   "attachments": {},
   "cell_type": "markdown",
   "metadata": {},
   "source": [
    "### 9.3 Test Data Preprocessing"
   ]
  },
  {
   "cell_type": "code",
   "execution_count": 76,
   "metadata": {},
   "outputs": [],
   "source": [
    "test_data_X = df2.drop(['cardio'],axis=1)\n",
    "test_data_y = df2['cardio']"
   ]
  },
  {
   "cell_type": "code",
   "execution_count": 77,
   "metadata": {},
   "outputs": [],
   "source": [
    "y_pred_test = rand.predict(test_data_X)\n"
   ]
  },
  {
   "attachments": {},
   "cell_type": "markdown",
   "metadata": {},
   "source": [
    "### 9.4 Model Evaluation on Test Data"
   ]
  },
  {
   "cell_type": "code",
   "execution_count": 96,
   "metadata": {},
   "outputs": [
    {
     "name": "stdout",
     "output_type": "stream",
     "text": [
      "0.8\n"
     ]
    }
   ],
   "source": [
    "score = accuracy_score(y_true=test_data_y, y_pred=y_pred_test)\n",
    "print(score)"
   ]
  },
  {
   "cell_type": "code",
   "execution_count": 85,
   "metadata": {},
   "outputs": [],
   "source": [
    "y_pred = rand.predict(test_data_X)\n",
    "\n",
    "labels = ['No Cardiovascular Disease', 'Has Cardiovascular Disease']\n",
    "cm2 = confusion_matrix(test_data_y, y_pred)\n",
    "cr2 = classification_report(test_data_y, y_pred, target_names=labels)"
   ]
  },
  {
   "cell_type": "code",
   "execution_count": 87,
   "metadata": {},
   "outputs": [
    {
     "name": "stdout",
     "output_type": "stream",
     "text": [
      "                            precision    recall  f1-score   support\n",
      "\n",
      " No Cardiovascular Disease       0.75      1.00      0.86         3\n",
      "Has Cardiovascular Disease       1.00      0.50      0.67         2\n",
      "\n",
      "                  accuracy                           0.80         5\n",
      "                 macro avg       0.88      0.75      0.76         5\n",
      "              weighted avg       0.85      0.80      0.78         5\n",
      "\n"
     ]
    }
   ],
   "source": [
    "print(cr2)"
   ]
  },
  {
   "attachments": {},
   "cell_type": "markdown",
   "metadata": {},
   "source": [
    "From the Classification Report, we can see that the **validation accuracy** is **80%**"
   ]
  },
  {
   "cell_type": "code",
   "execution_count": 94,
   "metadata": {},
   "outputs": [
    {
     "data": {
      "image/png": "[encoded data removed]",
      "text/plain": [
       "<Figure size 1000x600 with 2 Axes>"
      ]
     },
     "metadata": {},
     "output_type": "display_data"
    }
   ],
   "source": [
    "disp = ConfusionMatrixDisplay(confusion_matrix=cm2, display_labels=labels)\n",
    "disp.plot(cmap='BuPu')\n",
    "plt.rcParams['figure.figsize'] = [10,6]\n",
    "plt.show()"
   ]
  },
  {
   "attachments": {},
   "cell_type": "markdown",
   "metadata": {},
   "source": [
    "From the confusion matrix, 3 out of 3 **No Cardiovascular Disease** are predicted accurately. However, 1 out of 2 **Has Cardiovascular Disease** is predicted accurately."
   ]
  }
 ],
 "metadata": {
  "kernelspec": {
   "display_name": "ml_env",
   "language": "python",
   "name": "python3"
  },
  "language_info": {
   "codemirror_mode": {
    "name": "ipython",
    "version": 3
   },
   "file_extension": ".py",
   "mimetype": "text/x-python",
   "name": "python",
   "nbconvert_exporter": "python",
   "pygments_lexer": "ipython3",
   "version": "3.8.16"
  },
  "orig_nbformat": 4,
  "vscode": {
   "interpreter": {
    "hash": "7bd23e25f2b072d6501f3c91fd31f587e6956d57bf9f30a15d2cf19e76bb2e5e"
   }
  }
 },
 "nbformat": 4,
 "nbformat_minor": 2
}
